{
 "cells": [
  {
   "cell_type": "markdown",
   "metadata": {},
   "source": [
    "## An Agent-based model of economics of space colonies\n",
    "\n",
    "In this notebook we will create a rather simple look at economics between space colonies using an Agent-based model (ABM). ABMs are systems where individual organisms called agents follow a set of rules over a duration of a simulation. Mathematical simulations are often based on a set of equations describing an equilibrium of a system and studying effects leading to that point. ABMs by contrast work individually, often giving form to more complex phenomena if the agents are correctly set. This enables us to observe _emergence_ or the _\"whole is greater than the sum of its parts\"_ effect for complex systems.\n",
    "\n",
    "This simulation creates a simplified universe with *planets* and *colonies*, each of which is situated in a 2d space. We want to study how constraints on diminishing resources create a network of trade in this universe. The universe consists of only two materials\n",
    "\n",
    "- Commonium, a common material that is videly available on planets and is relatively cheap\n",
    "- Importatium, a relatively rare mineral that is used for high-tech development\n",
    "\n",
    "Additionally, each planet and colony will have the following traits\n",
    "\n",
    "- Habitability, a number between 0 and 100. The number represents how hostile the area is for permanent settlementation, either by humans or automata. Each unit of habitability under 100 increases the cost of running the settlement. Money can be spent to increase habitability of the area. Habitability decreases with consumption of resources.\n",
    "- Cost of operation: Cost to run the station, derived from habitability. Commonium and importantium are consumed for each person in the system.\n",
    "- Population. Population consumes resources and creates wealth for the planet. \n",
    "- Capital, the number of machinery on the planet. Capital is increased over time with a known constant.\n",
    "- Production. We will assume each planet porudces nothing but spaceships. A long shot, but this is a simple model. \n",
    "\n",
    "We use Cobb-Douglas productivity model (https://assets.aeaweb.org/asset-server/journals/aer/top20/18.1.139-165.pdf) of $Y = AK^\\alpha L^\\beta$, where $Y$ is the production output, $A$ is the scaling factor (often denoted productivity or technological prowess, which grows steadily over time), $K$ the amount of capital, $L$ the labour (equal to the population in our simulation) and $\\alpha, \\beta$ are constants for how much the output grows when one unit of capital or labor are added. Cobb and Douglas used values of $\\alpha = 1/4, \\beta = 3/4$ so we will run with those. A certain level of production is needed for spaceships, and spaceships wear down with time. They allow transportation of goods and people between planets. Spaceships have the following traits:\n",
    "\n",
    "- Cargo: We assume 10 tonnes of payload, with each person and his belongings weighting a tonne.\n",
    "- Cost to operate: a fixed sum of capital needed to run the spaceships\n",
    "- Speed: how long it takes to reach each planet or settlement\n",
    "\n",
    "The model is simple, so we will ignore most real-world restrictions. For example, we ignore the movement of planets, live on a 2d plane and disregard politics and sociology. We assume that the only motivation for humankind is to increase production indefinitely. The model aims to give a glimpse on how restricted resources give rise to colonies and the traffic flow between them\n",
    "\n",
    "This is not a factual model, rather a proof-of-concept designed to play around with dynamics of space colonies. Much further work is needed to derive meaningful real-world implications from this work."
   ]
  },
  {
   "cell_type": "code",
   "execution_count": 38,
   "metadata": {},
   "outputs": [],
   "source": [
    "import random\n",
    "import string\n",
    "import pandas as pd\n",
    "\n",
    "# Set repeatability\n",
    "random.seed(358)\n",
    "\n",
    "# Global variables\n",
    "A = .1 # A in Cobb-Douglas formula. For this project, A is also a proxy of human advanceness. It increases productivity but also the price and consumption of goods\n",
    "alpha = .25\n",
    "beta = .75\n",
    "cost_of_habitability = 100 # Production cost to offset one unit of habitability\n",
    "cost_of_improving_habitability = 1000 # Number of production needed to improve habitability by 1\n",
    "cost_of_breeding = A * 1\n",
    "\n",
    "# Store the spaceships in space somewhere\n",
    "spaceships_in_space = []\n",
    "\n",
    "class Planet:\n",
    "    \n",
    "    # Initialise the planet\n",
    "    def __init__(self, name, x, y, habitability, population, capital, commonium, importantium):\n",
    "        self.name = name\n",
    "        self.x = x # Coordinates of the planet\n",
    "        self.y = y\n",
    "        self.habitability = habitability # 0...100, with 100 being a habitable planet, 0 being the complete opposite\n",
    "        self.population = population \n",
    "        self.capital = capital # Capital is increased via production of goods\n",
    "        self.commonium = commonium # number of tonnes of material on the planet\n",
    "        self.importantium = importantium # number of tonnes of material on the planet\n",
    "        self.production = A*self.capital**alpha*self.population**beta # production\n",
    "        self.spaceships = []\n",
    "        \n",
    "    # Planets make autonomous decisions. Each planet has a few possibilities\n",
    "    # It must consume goods \n",
    "    def run_step(self):\n",
    "        \n",
    "        # How many spaceships we have produced\n",
    "        num_of_spaceships = 0\n",
    "        \n",
    "        # First we produce material\n",
    "        self.production = A*self.capital**alpha*self.population**beta\n",
    "        # Production uses up the planet's materials\n",
    "        self.commonium -= self.production\n",
    "        self.importantium -= min(A/10 * self.production, self.production) # Importantium use increases with age, but never exceeds commonium usage\n",
    "        \n",
    "        # Then we feed the population\n",
    "        self.production -= self.population * A\n",
    "        # We also use production to account for lack of habitability\n",
    "        self.production -= self.population * (100 - self.habitability) * cost_of_habitability\n",
    "        \n",
    "        # If we can make a spaceship you will be damn sure we make one\n",
    "        cost_of_spaceship = max(10000, A/10*10000) # The price of spaceships increases as A increases\n",
    "        \n",
    "        while self.production >= cost_of_spaceship:\n",
    "            self.spaceships.append(Spaceship())\n",
    "            self.production -= cost_of_spaceship\n",
    "        \n",
    "        # Use rest of the production to breed\n",
    "        while self.production >= cost_of_breeding:\n",
    "            self.population += 1\n",
    "            self.production -= cost_of_breeding\n",
    "            \n",
    "        return num_of_spaceship\n",
    "\n",
    "    def to_dict(self):\n",
    "        return {'name' : self.name, 'x' : self.x, 'y' : self.y, 'habitability' : self.habitability, 'population' : self.population, 'capital' : self.capital, 'commonium' : self.commonium, 'importantium' : self.importantium}\n",
    "\n",
    "    \n",
    "    def print_planet(self):\n",
    "        print('Planet x: {}, y: {}, habitability: {}, population: {}, capital: {}, commonium: {}, importantium: {}\\n'.format(self.x, self.y, self.habitability, self.population, self.capital, self.commonium, self.importantium))\n",
    "    \n",
    "\n",
    "class Spaceship:\n",
    "    \n",
    "    def __init__(self):\n",
    "        self.speed = 100\n",
    "        self.cargo = 10\n",
    "        self.fuel = None\n",
    "        self.cost_of_operation = 100\n",
    "        self.location = None # None or Planet\n",
    "        self.destination = None # When the ships are en route, this gets used to store the destination\n",
    "        self.distance_to_destination = None\n",
    "    \n",
    "    def refuel(self, fuel):\n",
    "        self.fuel += fuel\n",
    "    \n",
    "    def run_step(self):\n",
    "        self.distance_to_destination -= self.speed\n",
    "        # TODO: if we reach the destination, offload cargo, load new and off you go\n",
    "        \n",
    "        \n",
    "class Universum:\n",
    "    \n",
    "    def __init__(self, n_planets):\n",
    "        \n",
    "        max_x = 100\n",
    "        min_x = -100\n",
    "        max_y = 100\n",
    "        min_y = -100\n",
    "        \n",
    "        self.planets = []\n",
    "        # Generate Terra\n",
    "        self.planets.append(Planet(name = 'Terra', x = random.randint(min_x, max_x), y = random.randint(min_y, max_y), habitability = 100, population = 10, capital = 1, commonium = random.randint(10000,100000), importantium = random.randint(10,1000)))\n",
    "    \n",
    "        for i in range(n_planets - 1):\n",
    "            self.planets.append(Planet(name = ''.join(random.choices(string.ascii_uppercase + string.digits, k=6)),x = random.randint(min_x, max_x), y = random.randint(min_y, max_y), habitability = random.randint(0,100), population = 0, capital = 0, commonium = random.randint(0,100000), importantium = random.randint(0,100000)))\n",
    "\n",
    "    def get_planets(self):\n",
    "        return self.planets\n",
    "    \n",
    "    def print_planets(self):\n",
    "        for planet in self.planets:\n",
    "            planet.print_planet()\n",
    "            \n",
    "    def to_pandas(self):\n",
    "        i = 0\n",
    "        list_of_planets = []\n",
    "        for planet in self.planets:\n",
    "            list_of_planets.append(planet.to_dict())\n",
    "        return pd.DataFrame(list_of_planets)"
   ]
  },
  {
   "cell_type": "markdown",
   "metadata": {},
   "source": [
    "Now we can create and visualize our universum"
   ]
  },
  {
   "cell_type": "code",
   "execution_count": 41,
   "metadata": {},
   "outputs": [
    {
     "data": {
      "application/vnd.plotly.v1+json": {
       "config": {
        "plotlyServerURL": "https://plot.ly"
       },
       "data": [
        {
         "customdata": [
          [
           "Terra"
          ],
          [
           "FML25V"
          ],
          [
           "FOOTJE"
          ],
          [
           "DAUNYB"
          ],
          [
           "NAUNX1"
          ],
          [
           "8AGL9Q"
          ],
          [
           "KZUOGM"
          ],
          [
           "50P23O"
          ],
          [
           "O63BFA"
          ],
          [
           "50J0XK"
          ],
          [
           "128KGI"
          ],
          [
           "U23FEY"
          ],
          [
           "3T936J"
          ],
          [
           "UCDH0D"
          ],
          [
           "4BT52L"
          ],
          [
           "JR1K8I"
          ],
          [
           "G7KHCJ"
          ],
          [
           "ILOZ4P"
          ],
          [
           "ADVAWX"
          ],
          [
           "HIO4LH"
          ],
          [
           "954RIC"
          ],
          [
           "H7DTCZ"
          ],
          [
           "D7GKSM"
          ],
          [
           "YA2M82"
          ],
          [
           "NE9IR4"
          ],
          [
           "V4WB5P"
          ],
          [
           "HYI5RE"
          ],
          [
           "1U6FJJ"
          ],
          [
           "GYCS37"
          ],
          [
           "FJ85BW"
          ],
          [
           "HQ19JF"
          ],
          [
           "YP57LU"
          ],
          [
           "79TTJS"
          ],
          [
           "C7RIIG"
          ],
          [
           "GBRF0O"
          ],
          [
           "B5D5EZ"
          ],
          [
           "X3TOGP"
          ],
          [
           "7RVU2H"
          ],
          [
           "G77O31"
          ],
          [
           "AQYW3A"
          ],
          [
           "Q59W7M"
          ],
          [
           "PE6Y65"
          ],
          [
           "JFOYSJ"
          ],
          [
           "WQPHVH"
          ],
          [
           "NGU31K"
          ],
          [
           "KNBX4Q"
          ],
          [
           "QBKDWJ"
          ],
          [
           "FOLL2E"
          ],
          [
           "SBKFUM"
          ],
          [
           "UUU5VT"
          ],
          [
           "N4L0KX"
          ],
          [
           "MDBSH6"
          ],
          [
           "50H6AV"
          ],
          [
           "9J9UBC"
          ],
          [
           "PQV27D"
          ],
          [
           "46PWFR"
          ],
          [
           "XI3A91"
          ],
          [
           "BBIB7X"
          ],
          [
           "VKJ66F"
          ],
          [
           "ODD0O4"
          ],
          [
           "4BVUBO"
          ],
          [
           "MS17YN"
          ],
          [
           "FD8O9Y"
          ],
          [
           "EIR4N5"
          ],
          [
           "OIOPL5"
          ],
          [
           "WMFKEQ"
          ],
          [
           "2VVT1U"
          ],
          [
           "4DI5XH"
          ],
          [
           "LR600R"
          ],
          [
           "KGZVSQ"
          ],
          [
           "9QXOSZ"
          ],
          [
           "63TMU4"
          ],
          [
           "KTTDD6"
          ],
          [
           "ZMIXPU"
          ],
          [
           "UU45PC"
          ],
          [
           "NGEE2Q"
          ],
          [
           "MPQDRP"
          ],
          [
           "UZNPX2"
          ],
          [
           "S14ZVJ"
          ],
          [
           "QPMVEI"
          ],
          [
           "ILBJ3L"
          ],
          [
           "UIJMAX"
          ],
          [
           "HZ53I5"
          ],
          [
           "XYFZ6Y"
          ],
          [
           "OYYVZ9"
          ],
          [
           "W7XJY8"
          ],
          [
           "GP5LLP"
          ],
          [
           "IX5YK3"
          ],
          [
           "DGLADY"
          ],
          [
           "H1K1GY"
          ],
          [
           "KBIOWP"
          ],
          [
           "U9Y61A"
          ],
          [
           "BVQ6YZ"
          ],
          [
           "P4CSJH"
          ],
          [
           "WMOLRQ"
          ],
          [
           "YJ1F7G"
          ],
          [
           "LTP07O"
          ],
          [
           "6807R9"
          ],
          [
           "4B3TH2"
          ],
          [
           "TQVPWL"
          ]
         ],
         "hoverlabel": {
          "namelength": 0
         },
         "hovertemplate": "x=%{x}<br>y=%{y}<br>habitability=%{marker.size}<br>name=%{customdata[0]}<br>population=%{marker.color}",
         "legendgroup": "",
         "marker": {
          "color": [
           10,
           0,
           0,
           0,
           0,
           0,
           0,
           0,
           0,
           0,
           0,
           0,
           0,
           0,
           0,
           0,
           0,
           0,
           0,
           0,
           0,
           0,
           0,
           0,
           0,
           0,
           0,
           0,
           0,
           0,
           0,
           0,
           0,
           0,
           0,
           0,
           0,
           0,
           0,
           0,
           0,
           0,
           0,
           0,
           0,
           0,
           0,
           0,
           0,
           0,
           0,
           0,
           0,
           0,
           0,
           0,
           0,
           0,
           0,
           0,
           0,
           0,
           0,
           0,
           0,
           0,
           0,
           0,
           0,
           0,
           0,
           0,
           0,
           0,
           0,
           0,
           0,
           0,
           0,
           0,
           0,
           0,
           0,
           0,
           0,
           0,
           0,
           0,
           0,
           0,
           0,
           0,
           0,
           0,
           0,
           0,
           0,
           0,
           0,
           0
          ],
          "coloraxis": "coloraxis",
          "size": [
           100,
           34,
           31,
           48,
           84,
           34,
           3,
           54,
           71,
           54,
           10,
           28,
           67,
           83,
           97,
           26,
           90,
           62,
           62,
           26,
           30,
           95,
           94,
           28,
           97,
           5,
           17,
           51,
           17,
           66,
           46,
           25,
           83,
           48,
           55,
           82,
           62,
           76,
           77,
           99,
           65,
           63,
           33,
           70,
           72,
           14,
           45,
           74,
           35,
           28,
           94,
           37,
           0,
           2,
           6,
           88,
           53,
           72,
           45,
           83,
           24,
           70,
           23,
           25,
           89,
           73,
           48,
           68,
           77,
           69,
           62,
           61,
           43,
           56,
           95,
           71,
           41,
           25,
           94,
           59,
           26,
           63,
           99,
           85,
           19,
           75,
           15,
           0,
           51,
           4,
           83,
           49,
           41,
           65,
           75,
           56,
           86,
           50,
           21,
           13
          ],
          "sizemode": "area",
          "sizeref": 0.25,
          "symbol": "circle"
         },
         "mode": "markers",
         "name": "",
         "showlegend": false,
         "type": "scatter",
         "x": [
          -20,
          -21,
          -14,
          -57,
          75,
          -6,
          -70,
          -84,
          67,
          10,
          57,
          60,
          -56,
          55,
          75,
          91,
          -80,
          73,
          -97,
          -20,
          94,
          -58,
          80,
          29,
          64,
          -16,
          90,
          7,
          51,
          72,
          86,
          -87,
          64,
          -16,
          -42,
          12,
          -82,
          88,
          -27,
          45,
          -86,
          25,
          52,
          -4,
          36,
          -17,
          40,
          87,
          28,
          59,
          77,
          21,
          -80,
          60,
          62,
          -72,
          -65,
          23,
          31,
          5,
          74,
          -15,
          -42,
          50,
          58,
          -52,
          96,
          76,
          -44,
          27,
          0,
          -95,
          92,
          -5,
          -59,
          -10,
          -63,
          -48,
          -7,
          -12,
          24,
          28,
          29,
          -64,
          88,
          20,
          81,
          64,
          -12,
          92,
          20,
          -13,
          -15,
          -29,
          -78,
          33,
          2,
          99,
          -96,
          94
         ],
         "xaxis": "x",
         "y": [
          63,
          6,
          -39,
          27,
          24,
          96,
          32,
          15,
          99,
          -71,
          24,
          -54,
          84,
          26,
          -52,
          27,
          -85,
          -32,
          15,
          -4,
          -84,
          35,
          -54,
          -64,
          64,
          -22,
          -63,
          95,
          7,
          32,
          93,
          40,
          -57,
          19,
          -24,
          -61,
          -24,
          94,
          65,
          81,
          90,
          -1,
          56,
          -44,
          -79,
          -55,
          87,
          39,
          68,
          -16,
          2,
          -82,
          -49,
          -50,
          36,
          -73,
          -6,
          100,
          -74,
          -86,
          23,
          32,
          -49,
          54,
          57,
          10,
          -57,
          -9,
          -95,
          18,
          75,
          -79,
          39,
          -21,
          97,
          40,
          89,
          -37,
          -75,
          -5,
          -100,
          -51,
          61,
          -57,
          50,
          26,
          3,
          41,
          1,
          17,
          46,
          63,
          85,
          89,
          -15,
          21,
          46,
          -75,
          -55,
          54
         ],
         "yaxis": "y"
        }
       ],
       "layout": {
        "coloraxis": {
         "colorbar": {
          "title": {
           "text": "population"
          }
         },
         "colorscale": [
          [
           0,
           "#0d0887"
          ],
          [
           0.1111111111111111,
           "#46039f"
          ],
          [
           0.2222222222222222,
           "#7201a8"
          ],
          [
           0.3333333333333333,
           "#9c179e"
          ],
          [
           0.4444444444444444,
           "#bd3786"
          ],
          [
           0.5555555555555556,
           "#d8576b"
          ],
          [
           0.6666666666666666,
           "#ed7953"
          ],
          [
           0.7777777777777778,
           "#fb9f3a"
          ],
          [
           0.8888888888888888,
           "#fdca26"
          ],
          [
           1,
           "#f0f921"
          ]
         ]
        },
        "legend": {
         "itemsizing": "constant",
         "tracegroupgap": 0
        },
        "margin": {
         "t": 60
        },
        "template": {
         "data": {
          "bar": [
           {
            "error_x": {
             "color": "#2a3f5f"
            },
            "error_y": {
             "color": "#2a3f5f"
            },
            "marker": {
             "line": {
              "color": "#E5ECF6",
              "width": 0.5
             }
            },
            "type": "bar"
           }
          ],
          "barpolar": [
           {
            "marker": {
             "line": {
              "color": "#E5ECF6",
              "width": 0.5
             }
            },
            "type": "barpolar"
           }
          ],
          "carpet": [
           {
            "aaxis": {
             "endlinecolor": "#2a3f5f",
             "gridcolor": "white",
             "linecolor": "white",
             "minorgridcolor": "white",
             "startlinecolor": "#2a3f5f"
            },
            "baxis": {
             "endlinecolor": "#2a3f5f",
             "gridcolor": "white",
             "linecolor": "white",
             "minorgridcolor": "white",
             "startlinecolor": "#2a3f5f"
            },
            "type": "carpet"
           }
          ],
          "choropleth": [
           {
            "colorbar": {
             "outlinewidth": 0,
             "ticks": ""
            },
            "type": "choropleth"
           }
          ],
          "contour": [
           {
            "colorbar": {
             "outlinewidth": 0,
             "ticks": ""
            },
            "colorscale": [
             [
              0,
              "#0d0887"
             ],
             [
              0.1111111111111111,
              "#46039f"
             ],
             [
              0.2222222222222222,
              "#7201a8"
             ],
             [
              0.3333333333333333,
              "#9c179e"
             ],
             [
              0.4444444444444444,
              "#bd3786"
             ],
             [
              0.5555555555555556,
              "#d8576b"
             ],
             [
              0.6666666666666666,
              "#ed7953"
             ],
             [
              0.7777777777777778,
              "#fb9f3a"
             ],
             [
              0.8888888888888888,
              "#fdca26"
             ],
             [
              1,
              "#f0f921"
             ]
            ],
            "type": "contour"
           }
          ],
          "contourcarpet": [
           {
            "colorbar": {
             "outlinewidth": 0,
             "ticks": ""
            },
            "type": "contourcarpet"
           }
          ],
          "heatmap": [
           {
            "colorbar": {
             "outlinewidth": 0,
             "ticks": ""
            },
            "colorscale": [
             [
              0,
              "#0d0887"
             ],
             [
              0.1111111111111111,
              "#46039f"
             ],
             [
              0.2222222222222222,
              "#7201a8"
             ],
             [
              0.3333333333333333,
              "#9c179e"
             ],
             [
              0.4444444444444444,
              "#bd3786"
             ],
             [
              0.5555555555555556,
              "#d8576b"
             ],
             [
              0.6666666666666666,
              "#ed7953"
             ],
             [
              0.7777777777777778,
              "#fb9f3a"
             ],
             [
              0.8888888888888888,
              "#fdca26"
             ],
             [
              1,
              "#f0f921"
             ]
            ],
            "type": "heatmap"
           }
          ],
          "heatmapgl": [
           {
            "colorbar": {
             "outlinewidth": 0,
             "ticks": ""
            },
            "colorscale": [
             [
              0,
              "#0d0887"
             ],
             [
              0.1111111111111111,
              "#46039f"
             ],
             [
              0.2222222222222222,
              "#7201a8"
             ],
             [
              0.3333333333333333,
              "#9c179e"
             ],
             [
              0.4444444444444444,
              "#bd3786"
             ],
             [
              0.5555555555555556,
              "#d8576b"
             ],
             [
              0.6666666666666666,
              "#ed7953"
             ],
             [
              0.7777777777777778,
              "#fb9f3a"
             ],
             [
              0.8888888888888888,
              "#fdca26"
             ],
             [
              1,
              "#f0f921"
             ]
            ],
            "type": "heatmapgl"
           }
          ],
          "histogram": [
           {
            "marker": {
             "colorbar": {
              "outlinewidth": 0,
              "ticks": ""
             }
            },
            "type": "histogram"
           }
          ],
          "histogram2d": [
           {
            "colorbar": {
             "outlinewidth": 0,
             "ticks": ""
            },
            "colorscale": [
             [
              0,
              "#0d0887"
             ],
             [
              0.1111111111111111,
              "#46039f"
             ],
             [
              0.2222222222222222,
              "#7201a8"
             ],
             [
              0.3333333333333333,
              "#9c179e"
             ],
             [
              0.4444444444444444,
              "#bd3786"
             ],
             [
              0.5555555555555556,
              "#d8576b"
             ],
             [
              0.6666666666666666,
              "#ed7953"
             ],
             [
              0.7777777777777778,
              "#fb9f3a"
             ],
             [
              0.8888888888888888,
              "#fdca26"
             ],
             [
              1,
              "#f0f921"
             ]
            ],
            "type": "histogram2d"
           }
          ],
          "histogram2dcontour": [
           {
            "colorbar": {
             "outlinewidth": 0,
             "ticks": ""
            },
            "colorscale": [
             [
              0,
              "#0d0887"
             ],
             [
              0.1111111111111111,
              "#46039f"
             ],
             [
              0.2222222222222222,
              "#7201a8"
             ],
             [
              0.3333333333333333,
              "#9c179e"
             ],
             [
              0.4444444444444444,
              "#bd3786"
             ],
             [
              0.5555555555555556,
              "#d8576b"
             ],
             [
              0.6666666666666666,
              "#ed7953"
             ],
             [
              0.7777777777777778,
              "#fb9f3a"
             ],
             [
              0.8888888888888888,
              "#fdca26"
             ],
             [
              1,
              "#f0f921"
             ]
            ],
            "type": "histogram2dcontour"
           }
          ],
          "mesh3d": [
           {
            "colorbar": {
             "outlinewidth": 0,
             "ticks": ""
            },
            "type": "mesh3d"
           }
          ],
          "parcoords": [
           {
            "line": {
             "colorbar": {
              "outlinewidth": 0,
              "ticks": ""
             }
            },
            "type": "parcoords"
           }
          ],
          "pie": [
           {
            "automargin": true,
            "type": "pie"
           }
          ],
          "scatter": [
           {
            "marker": {
             "colorbar": {
              "outlinewidth": 0,
              "ticks": ""
             }
            },
            "type": "scatter"
           }
          ],
          "scatter3d": [
           {
            "line": {
             "colorbar": {
              "outlinewidth": 0,
              "ticks": ""
             }
            },
            "marker": {
             "colorbar": {
              "outlinewidth": 0,
              "ticks": ""
             }
            },
            "type": "scatter3d"
           }
          ],
          "scattercarpet": [
           {
            "marker": {
             "colorbar": {
              "outlinewidth": 0,
              "ticks": ""
             }
            },
            "type": "scattercarpet"
           }
          ],
          "scattergeo": [
           {
            "marker": {
             "colorbar": {
              "outlinewidth": 0,
              "ticks": ""
             }
            },
            "type": "scattergeo"
           }
          ],
          "scattergl": [
           {
            "marker": {
             "colorbar": {
              "outlinewidth": 0,
              "ticks": ""
             }
            },
            "type": "scattergl"
           }
          ],
          "scattermapbox": [
           {
            "marker": {
             "colorbar": {
              "outlinewidth": 0,
              "ticks": ""
             }
            },
            "type": "scattermapbox"
           }
          ],
          "scatterpolar": [
           {
            "marker": {
             "colorbar": {
              "outlinewidth": 0,
              "ticks": ""
             }
            },
            "type": "scatterpolar"
           }
          ],
          "scatterpolargl": [
           {
            "marker": {
             "colorbar": {
              "outlinewidth": 0,
              "ticks": ""
             }
            },
            "type": "scatterpolargl"
           }
          ],
          "scatterternary": [
           {
            "marker": {
             "colorbar": {
              "outlinewidth": 0,
              "ticks": ""
             }
            },
            "type": "scatterternary"
           }
          ],
          "surface": [
           {
            "colorbar": {
             "outlinewidth": 0,
             "ticks": ""
            },
            "colorscale": [
             [
              0,
              "#0d0887"
             ],
             [
              0.1111111111111111,
              "#46039f"
             ],
             [
              0.2222222222222222,
              "#7201a8"
             ],
             [
              0.3333333333333333,
              "#9c179e"
             ],
             [
              0.4444444444444444,
              "#bd3786"
             ],
             [
              0.5555555555555556,
              "#d8576b"
             ],
             [
              0.6666666666666666,
              "#ed7953"
             ],
             [
              0.7777777777777778,
              "#fb9f3a"
             ],
             [
              0.8888888888888888,
              "#fdca26"
             ],
             [
              1,
              "#f0f921"
             ]
            ],
            "type": "surface"
           }
          ],
          "table": [
           {
            "cells": {
             "fill": {
              "color": "#EBF0F8"
             },
             "line": {
              "color": "white"
             }
            },
            "header": {
             "fill": {
              "color": "#C8D4E3"
             },
             "line": {
              "color": "white"
             }
            },
            "type": "table"
           }
          ]
         },
         "layout": {
          "annotationdefaults": {
           "arrowcolor": "#2a3f5f",
           "arrowhead": 0,
           "arrowwidth": 1
          },
          "coloraxis": {
           "colorbar": {
            "outlinewidth": 0,
            "ticks": ""
           }
          },
          "colorscale": {
           "diverging": [
            [
             0,
             "#8e0152"
            ],
            [
             0.1,
             "#c51b7d"
            ],
            [
             0.2,
             "#de77ae"
            ],
            [
             0.3,
             "#f1b6da"
            ],
            [
             0.4,
             "#fde0ef"
            ],
            [
             0.5,
             "#f7f7f7"
            ],
            [
             0.6,
             "#e6f5d0"
            ],
            [
             0.7,
             "#b8e186"
            ],
            [
             0.8,
             "#7fbc41"
            ],
            [
             0.9,
             "#4d9221"
            ],
            [
             1,
             "#276419"
            ]
           ],
           "sequential": [
            [
             0,
             "#0d0887"
            ],
            [
             0.1111111111111111,
             "#46039f"
            ],
            [
             0.2222222222222222,
             "#7201a8"
            ],
            [
             0.3333333333333333,
             "#9c179e"
            ],
            [
             0.4444444444444444,
             "#bd3786"
            ],
            [
             0.5555555555555556,
             "#d8576b"
            ],
            [
             0.6666666666666666,
             "#ed7953"
            ],
            [
             0.7777777777777778,
             "#fb9f3a"
            ],
            [
             0.8888888888888888,
             "#fdca26"
            ],
            [
             1,
             "#f0f921"
            ]
           ],
           "sequentialminus": [
            [
             0,
             "#0d0887"
            ],
            [
             0.1111111111111111,
             "#46039f"
            ],
            [
             0.2222222222222222,
             "#7201a8"
            ],
            [
             0.3333333333333333,
             "#9c179e"
            ],
            [
             0.4444444444444444,
             "#bd3786"
            ],
            [
             0.5555555555555556,
             "#d8576b"
            ],
            [
             0.6666666666666666,
             "#ed7953"
            ],
            [
             0.7777777777777778,
             "#fb9f3a"
            ],
            [
             0.8888888888888888,
             "#fdca26"
            ],
            [
             1,
             "#f0f921"
            ]
           ]
          },
          "colorway": [
           "#636efa",
           "#EF553B",
           "#00cc96",
           "#ab63fa",
           "#FFA15A",
           "#19d3f3",
           "#FF6692",
           "#B6E880",
           "#FF97FF",
           "#FECB52"
          ],
          "font": {
           "color": "#2a3f5f"
          },
          "geo": {
           "bgcolor": "white",
           "lakecolor": "white",
           "landcolor": "#E5ECF6",
           "showlakes": true,
           "showland": true,
           "subunitcolor": "white"
          },
          "hoverlabel": {
           "align": "left"
          },
          "hovermode": "closest",
          "mapbox": {
           "style": "light"
          },
          "paper_bgcolor": "white",
          "plot_bgcolor": "#E5ECF6",
          "polar": {
           "angularaxis": {
            "gridcolor": "white",
            "linecolor": "white",
            "ticks": ""
           },
           "bgcolor": "#E5ECF6",
           "radialaxis": {
            "gridcolor": "white",
            "linecolor": "white",
            "ticks": ""
           }
          },
          "scene": {
           "xaxis": {
            "backgroundcolor": "#E5ECF6",
            "gridcolor": "white",
            "gridwidth": 2,
            "linecolor": "white",
            "showbackground": true,
            "ticks": "",
            "zerolinecolor": "white"
           },
           "yaxis": {
            "backgroundcolor": "#E5ECF6",
            "gridcolor": "white",
            "gridwidth": 2,
            "linecolor": "white",
            "showbackground": true,
            "ticks": "",
            "zerolinecolor": "white"
           },
           "zaxis": {
            "backgroundcolor": "#E5ECF6",
            "gridcolor": "white",
            "gridwidth": 2,
            "linecolor": "white",
            "showbackground": true,
            "ticks": "",
            "zerolinecolor": "white"
           }
          },
          "shapedefaults": {
           "line": {
            "color": "#2a3f5f"
           }
          },
          "ternary": {
           "aaxis": {
            "gridcolor": "white",
            "linecolor": "white",
            "ticks": ""
           },
           "baxis": {
            "gridcolor": "white",
            "linecolor": "white",
            "ticks": ""
           },
           "bgcolor": "#E5ECF6",
           "caxis": {
            "gridcolor": "white",
            "linecolor": "white",
            "ticks": ""
           }
          },
          "title": {
           "x": 0.05
          },
          "xaxis": {
           "automargin": true,
           "gridcolor": "white",
           "linecolor": "white",
           "ticks": "",
           "title": {
            "standoff": 15
           },
           "zerolinecolor": "white",
           "zerolinewidth": 2
          },
          "yaxis": {
           "automargin": true,
           "gridcolor": "white",
           "linecolor": "white",
           "ticks": "",
           "title": {
            "standoff": 15
           },
           "zerolinecolor": "white",
           "zerolinewidth": 2
          }
         }
        },
        "xaxis": {
         "anchor": "y",
         "domain": [
          0,
          1
         ],
         "title": {
          "text": "x"
         }
        },
        "yaxis": {
         "anchor": "x",
         "domain": [
          0,
          1
         ],
         "title": {
          "text": "y"
         }
        }
       }
      },
      "text/html": [
       "<div>\n",
       "        \n",
       "        \n",
       "            <div id=\"7a15b923-f6df-493c-893a-73289e034c72\" class=\"plotly-graph-div\" style=\"height:525px; width:100%;\"></div>\n",
       "            <script type=\"text/javascript\">\n",
       "                require([\"plotly\"], function(Plotly) {\n",
       "                    window.PLOTLYENV=window.PLOTLYENV || {};\n",
       "                    \n",
       "                if (document.getElementById(\"7a15b923-f6df-493c-893a-73289e034c72\")) {\n",
       "                    Plotly.newPlot(\n",
       "                        '7a15b923-f6df-493c-893a-73289e034c72',\n",
       "                        [{\"customdata\": [[\"Terra\"], [\"FML25V\"], [\"FOOTJE\"], [\"DAUNYB\"], [\"NAUNX1\"], [\"8AGL9Q\"], [\"KZUOGM\"], [\"50P23O\"], [\"O63BFA\"], [\"50J0XK\"], [\"128KGI\"], [\"U23FEY\"], [\"3T936J\"], [\"UCDH0D\"], [\"4BT52L\"], [\"JR1K8I\"], [\"G7KHCJ\"], [\"ILOZ4P\"], [\"ADVAWX\"], [\"HIO4LH\"], [\"954RIC\"], [\"H7DTCZ\"], [\"D7GKSM\"], [\"YA2M82\"], [\"NE9IR4\"], [\"V4WB5P\"], [\"HYI5RE\"], [\"1U6FJJ\"], [\"GYCS37\"], [\"FJ85BW\"], [\"HQ19JF\"], [\"YP57LU\"], [\"79TTJS\"], [\"C7RIIG\"], [\"GBRF0O\"], [\"B5D5EZ\"], [\"X3TOGP\"], [\"7RVU2H\"], [\"G77O31\"], [\"AQYW3A\"], [\"Q59W7M\"], [\"PE6Y65\"], [\"JFOYSJ\"], [\"WQPHVH\"], [\"NGU31K\"], [\"KNBX4Q\"], [\"QBKDWJ\"], [\"FOLL2E\"], [\"SBKFUM\"], [\"UUU5VT\"], [\"N4L0KX\"], [\"MDBSH6\"], [\"50H6AV\"], [\"9J9UBC\"], [\"PQV27D\"], [\"46PWFR\"], [\"XI3A91\"], [\"BBIB7X\"], [\"VKJ66F\"], [\"ODD0O4\"], [\"4BVUBO\"], [\"MS17YN\"], [\"FD8O9Y\"], [\"EIR4N5\"], [\"OIOPL5\"], [\"WMFKEQ\"], [\"2VVT1U\"], [\"4DI5XH\"], [\"LR600R\"], [\"KGZVSQ\"], [\"9QXOSZ\"], [\"63TMU4\"], [\"KTTDD6\"], [\"ZMIXPU\"], [\"UU45PC\"], [\"NGEE2Q\"], [\"MPQDRP\"], [\"UZNPX2\"], [\"S14ZVJ\"], [\"QPMVEI\"], [\"ILBJ3L\"], [\"UIJMAX\"], [\"HZ53I5\"], [\"XYFZ6Y\"], [\"OYYVZ9\"], [\"W7XJY8\"], [\"GP5LLP\"], [\"IX5YK3\"], [\"DGLADY\"], [\"H1K1GY\"], [\"KBIOWP\"], [\"U9Y61A\"], [\"BVQ6YZ\"], [\"P4CSJH\"], [\"WMOLRQ\"], [\"YJ1F7G\"], [\"LTP07O\"], [\"6807R9\"], [\"4B3TH2\"], [\"TQVPWL\"]], \"hoverlabel\": {\"namelength\": 0}, \"hovertemplate\": \"x=%{x}<br>y=%{y}<br>habitability=%{marker.size}<br>name=%{customdata[0]}<br>population=%{marker.color}\", \"legendgroup\": \"\", \"marker\": {\"color\": [10, 0, 0, 0, 0, 0, 0, 0, 0, 0, 0, 0, 0, 0, 0, 0, 0, 0, 0, 0, 0, 0, 0, 0, 0, 0, 0, 0, 0, 0, 0, 0, 0, 0, 0, 0, 0, 0, 0, 0, 0, 0, 0, 0, 0, 0, 0, 0, 0, 0, 0, 0, 0, 0, 0, 0, 0, 0, 0, 0, 0, 0, 0, 0, 0, 0, 0, 0, 0, 0, 0, 0, 0, 0, 0, 0, 0, 0, 0, 0, 0, 0, 0, 0, 0, 0, 0, 0, 0, 0, 0, 0, 0, 0, 0, 0, 0, 0, 0, 0], \"coloraxis\": \"coloraxis\", \"size\": [100, 34, 31, 48, 84, 34, 3, 54, 71, 54, 10, 28, 67, 83, 97, 26, 90, 62, 62, 26, 30, 95, 94, 28, 97, 5, 17, 51, 17, 66, 46, 25, 83, 48, 55, 82, 62, 76, 77, 99, 65, 63, 33, 70, 72, 14, 45, 74, 35, 28, 94, 37, 0, 2, 6, 88, 53, 72, 45, 83, 24, 70, 23, 25, 89, 73, 48, 68, 77, 69, 62, 61, 43, 56, 95, 71, 41, 25, 94, 59, 26, 63, 99, 85, 19, 75, 15, 0, 51, 4, 83, 49, 41, 65, 75, 56, 86, 50, 21, 13], \"sizemode\": \"area\", \"sizeref\": 0.25, \"symbol\": \"circle\"}, \"mode\": \"markers\", \"name\": \"\", \"showlegend\": false, \"type\": \"scatter\", \"x\": [-20, -21, -14, -57, 75, -6, -70, -84, 67, 10, 57, 60, -56, 55, 75, 91, -80, 73, -97, -20, 94, -58, 80, 29, 64, -16, 90, 7, 51, 72, 86, -87, 64, -16, -42, 12, -82, 88, -27, 45, -86, 25, 52, -4, 36, -17, 40, 87, 28, 59, 77, 21, -80, 60, 62, -72, -65, 23, 31, 5, 74, -15, -42, 50, 58, -52, 96, 76, -44, 27, 0, -95, 92, -5, -59, -10, -63, -48, -7, -12, 24, 28, 29, -64, 88, 20, 81, 64, -12, 92, 20, -13, -15, -29, -78, 33, 2, 99, -96, 94], \"xaxis\": \"x\", \"y\": [63, 6, -39, 27, 24, 96, 32, 15, 99, -71, 24, -54, 84, 26, -52, 27, -85, -32, 15, -4, -84, 35, -54, -64, 64, -22, -63, 95, 7, 32, 93, 40, -57, 19, -24, -61, -24, 94, 65, 81, 90, -1, 56, -44, -79, -55, 87, 39, 68, -16, 2, -82, -49, -50, 36, -73, -6, 100, -74, -86, 23, 32, -49, 54, 57, 10, -57, -9, -95, 18, 75, -79, 39, -21, 97, 40, 89, -37, -75, -5, -100, -51, 61, -57, 50, 26, 3, 41, 1, 17, 46, 63, 85, 89, -15, 21, 46, -75, -55, 54], \"yaxis\": \"y\"}],\n",
       "                        {\"coloraxis\": {\"colorbar\": {\"title\": {\"text\": \"population\"}}, \"colorscale\": [[0.0, \"#0d0887\"], [0.1111111111111111, \"#46039f\"], [0.2222222222222222, \"#7201a8\"], [0.3333333333333333, \"#9c179e\"], [0.4444444444444444, \"#bd3786\"], [0.5555555555555556, \"#d8576b\"], [0.6666666666666666, \"#ed7953\"], [0.7777777777777778, \"#fb9f3a\"], [0.8888888888888888, \"#fdca26\"], [1.0, \"#f0f921\"]]}, \"legend\": {\"itemsizing\": \"constant\", \"tracegroupgap\": 0}, \"margin\": {\"t\": 60}, \"template\": {\"data\": {\"bar\": [{\"error_x\": {\"color\": \"#2a3f5f\"}, \"error_y\": {\"color\": \"#2a3f5f\"}, \"marker\": {\"line\": {\"color\": \"#E5ECF6\", \"width\": 0.5}}, \"type\": \"bar\"}], \"barpolar\": [{\"marker\": {\"line\": {\"color\": \"#E5ECF6\", \"width\": 0.5}}, \"type\": \"barpolar\"}], \"carpet\": [{\"aaxis\": {\"endlinecolor\": \"#2a3f5f\", \"gridcolor\": \"white\", \"linecolor\": \"white\", \"minorgridcolor\": \"white\", \"startlinecolor\": \"#2a3f5f\"}, \"baxis\": {\"endlinecolor\": \"#2a3f5f\", \"gridcolor\": \"white\", \"linecolor\": \"white\", \"minorgridcolor\": \"white\", \"startlinecolor\": \"#2a3f5f\"}, \"type\": \"carpet\"}], \"choropleth\": [{\"colorbar\": {\"outlinewidth\": 0, \"ticks\": \"\"}, \"type\": \"choropleth\"}], \"contour\": [{\"colorbar\": {\"outlinewidth\": 0, \"ticks\": \"\"}, \"colorscale\": [[0.0, \"#0d0887\"], [0.1111111111111111, \"#46039f\"], [0.2222222222222222, \"#7201a8\"], [0.3333333333333333, \"#9c179e\"], [0.4444444444444444, \"#bd3786\"], [0.5555555555555556, \"#d8576b\"], [0.6666666666666666, \"#ed7953\"], [0.7777777777777778, \"#fb9f3a\"], [0.8888888888888888, \"#fdca26\"], [1.0, \"#f0f921\"]], \"type\": \"contour\"}], \"contourcarpet\": [{\"colorbar\": {\"outlinewidth\": 0, \"ticks\": \"\"}, \"type\": \"contourcarpet\"}], \"heatmap\": [{\"colorbar\": {\"outlinewidth\": 0, \"ticks\": \"\"}, \"colorscale\": [[0.0, \"#0d0887\"], [0.1111111111111111, \"#46039f\"], [0.2222222222222222, \"#7201a8\"], [0.3333333333333333, \"#9c179e\"], [0.4444444444444444, \"#bd3786\"], [0.5555555555555556, \"#d8576b\"], [0.6666666666666666, \"#ed7953\"], [0.7777777777777778, \"#fb9f3a\"], [0.8888888888888888, \"#fdca26\"], [1.0, \"#f0f921\"]], \"type\": \"heatmap\"}], \"heatmapgl\": [{\"colorbar\": {\"outlinewidth\": 0, \"ticks\": \"\"}, \"colorscale\": [[0.0, \"#0d0887\"], [0.1111111111111111, \"#46039f\"], [0.2222222222222222, \"#7201a8\"], [0.3333333333333333, \"#9c179e\"], [0.4444444444444444, \"#bd3786\"], [0.5555555555555556, \"#d8576b\"], [0.6666666666666666, \"#ed7953\"], [0.7777777777777778, \"#fb9f3a\"], [0.8888888888888888, \"#fdca26\"], [1.0, \"#f0f921\"]], \"type\": \"heatmapgl\"}], \"histogram\": [{\"marker\": {\"colorbar\": {\"outlinewidth\": 0, \"ticks\": \"\"}}, \"type\": \"histogram\"}], \"histogram2d\": [{\"colorbar\": {\"outlinewidth\": 0, \"ticks\": \"\"}, \"colorscale\": [[0.0, \"#0d0887\"], [0.1111111111111111, \"#46039f\"], [0.2222222222222222, \"#7201a8\"], [0.3333333333333333, \"#9c179e\"], [0.4444444444444444, \"#bd3786\"], [0.5555555555555556, \"#d8576b\"], [0.6666666666666666, \"#ed7953\"], [0.7777777777777778, \"#fb9f3a\"], [0.8888888888888888, \"#fdca26\"], [1.0, \"#f0f921\"]], \"type\": \"histogram2d\"}], \"histogram2dcontour\": [{\"colorbar\": {\"outlinewidth\": 0, \"ticks\": \"\"}, \"colorscale\": [[0.0, \"#0d0887\"], [0.1111111111111111, \"#46039f\"], [0.2222222222222222, \"#7201a8\"], [0.3333333333333333, \"#9c179e\"], [0.4444444444444444, \"#bd3786\"], [0.5555555555555556, \"#d8576b\"], [0.6666666666666666, \"#ed7953\"], [0.7777777777777778, \"#fb9f3a\"], [0.8888888888888888, \"#fdca26\"], [1.0, \"#f0f921\"]], \"type\": \"histogram2dcontour\"}], \"mesh3d\": [{\"colorbar\": {\"outlinewidth\": 0, \"ticks\": \"\"}, \"type\": \"mesh3d\"}], \"parcoords\": [{\"line\": {\"colorbar\": {\"outlinewidth\": 0, \"ticks\": \"\"}}, \"type\": \"parcoords\"}], \"pie\": [{\"automargin\": true, \"type\": \"pie\"}], \"scatter\": [{\"marker\": {\"colorbar\": {\"outlinewidth\": 0, \"ticks\": \"\"}}, \"type\": \"scatter\"}], \"scatter3d\": [{\"line\": {\"colorbar\": {\"outlinewidth\": 0, \"ticks\": \"\"}}, \"marker\": {\"colorbar\": {\"outlinewidth\": 0, \"ticks\": \"\"}}, \"type\": \"scatter3d\"}], \"scattercarpet\": [{\"marker\": {\"colorbar\": {\"outlinewidth\": 0, \"ticks\": \"\"}}, \"type\": \"scattercarpet\"}], \"scattergeo\": [{\"marker\": {\"colorbar\": {\"outlinewidth\": 0, \"ticks\": \"\"}}, \"type\": \"scattergeo\"}], \"scattergl\": [{\"marker\": {\"colorbar\": {\"outlinewidth\": 0, \"ticks\": \"\"}}, \"type\": \"scattergl\"}], \"scattermapbox\": [{\"marker\": {\"colorbar\": {\"outlinewidth\": 0, \"ticks\": \"\"}}, \"type\": \"scattermapbox\"}], \"scatterpolar\": [{\"marker\": {\"colorbar\": {\"outlinewidth\": 0, \"ticks\": \"\"}}, \"type\": \"scatterpolar\"}], \"scatterpolargl\": [{\"marker\": {\"colorbar\": {\"outlinewidth\": 0, \"ticks\": \"\"}}, \"type\": \"scatterpolargl\"}], \"scatterternary\": [{\"marker\": {\"colorbar\": {\"outlinewidth\": 0, \"ticks\": \"\"}}, \"type\": \"scatterternary\"}], \"surface\": [{\"colorbar\": {\"outlinewidth\": 0, \"ticks\": \"\"}, \"colorscale\": [[0.0, \"#0d0887\"], [0.1111111111111111, \"#46039f\"], [0.2222222222222222, \"#7201a8\"], [0.3333333333333333, \"#9c179e\"], [0.4444444444444444, \"#bd3786\"], [0.5555555555555556, \"#d8576b\"], [0.6666666666666666, \"#ed7953\"], [0.7777777777777778, \"#fb9f3a\"], [0.8888888888888888, \"#fdca26\"], [1.0, \"#f0f921\"]], \"type\": \"surface\"}], \"table\": [{\"cells\": {\"fill\": {\"color\": \"#EBF0F8\"}, \"line\": {\"color\": \"white\"}}, \"header\": {\"fill\": {\"color\": \"#C8D4E3\"}, \"line\": {\"color\": \"white\"}}, \"type\": \"table\"}]}, \"layout\": {\"annotationdefaults\": {\"arrowcolor\": \"#2a3f5f\", \"arrowhead\": 0, \"arrowwidth\": 1}, \"coloraxis\": {\"colorbar\": {\"outlinewidth\": 0, \"ticks\": \"\"}}, \"colorscale\": {\"diverging\": [[0, \"#8e0152\"], [0.1, \"#c51b7d\"], [0.2, \"#de77ae\"], [0.3, \"#f1b6da\"], [0.4, \"#fde0ef\"], [0.5, \"#f7f7f7\"], [0.6, \"#e6f5d0\"], [0.7, \"#b8e186\"], [0.8, \"#7fbc41\"], [0.9, \"#4d9221\"], [1, \"#276419\"]], \"sequential\": [[0.0, \"#0d0887\"], [0.1111111111111111, \"#46039f\"], [0.2222222222222222, \"#7201a8\"], [0.3333333333333333, \"#9c179e\"], [0.4444444444444444, \"#bd3786\"], [0.5555555555555556, \"#d8576b\"], [0.6666666666666666, \"#ed7953\"], [0.7777777777777778, \"#fb9f3a\"], [0.8888888888888888, \"#fdca26\"], [1.0, \"#f0f921\"]], \"sequentialminus\": [[0.0, \"#0d0887\"], [0.1111111111111111, \"#46039f\"], [0.2222222222222222, \"#7201a8\"], [0.3333333333333333, \"#9c179e\"], [0.4444444444444444, \"#bd3786\"], [0.5555555555555556, \"#d8576b\"], [0.6666666666666666, \"#ed7953\"], [0.7777777777777778, \"#fb9f3a\"], [0.8888888888888888, \"#fdca26\"], [1.0, \"#f0f921\"]]}, \"colorway\": [\"#636efa\", \"#EF553B\", \"#00cc96\", \"#ab63fa\", \"#FFA15A\", \"#19d3f3\", \"#FF6692\", \"#B6E880\", \"#FF97FF\", \"#FECB52\"], \"font\": {\"color\": \"#2a3f5f\"}, \"geo\": {\"bgcolor\": \"white\", \"lakecolor\": \"white\", \"landcolor\": \"#E5ECF6\", \"showlakes\": true, \"showland\": true, \"subunitcolor\": \"white\"}, \"hoverlabel\": {\"align\": \"left\"}, \"hovermode\": \"closest\", \"mapbox\": {\"style\": \"light\"}, \"paper_bgcolor\": \"white\", \"plot_bgcolor\": \"#E5ECF6\", \"polar\": {\"angularaxis\": {\"gridcolor\": \"white\", \"linecolor\": \"white\", \"ticks\": \"\"}, \"bgcolor\": \"#E5ECF6\", \"radialaxis\": {\"gridcolor\": \"white\", \"linecolor\": \"white\", \"ticks\": \"\"}}, \"scene\": {\"xaxis\": {\"backgroundcolor\": \"#E5ECF6\", \"gridcolor\": \"white\", \"gridwidth\": 2, \"linecolor\": \"white\", \"showbackground\": true, \"ticks\": \"\", \"zerolinecolor\": \"white\"}, \"yaxis\": {\"backgroundcolor\": \"#E5ECF6\", \"gridcolor\": \"white\", \"gridwidth\": 2, \"linecolor\": \"white\", \"showbackground\": true, \"ticks\": \"\", \"zerolinecolor\": \"white\"}, \"zaxis\": {\"backgroundcolor\": \"#E5ECF6\", \"gridcolor\": \"white\", \"gridwidth\": 2, \"linecolor\": \"white\", \"showbackground\": true, \"ticks\": \"\", \"zerolinecolor\": \"white\"}}, \"shapedefaults\": {\"line\": {\"color\": \"#2a3f5f\"}}, \"ternary\": {\"aaxis\": {\"gridcolor\": \"white\", \"linecolor\": \"white\", \"ticks\": \"\"}, \"baxis\": {\"gridcolor\": \"white\", \"linecolor\": \"white\", \"ticks\": \"\"}, \"bgcolor\": \"#E5ECF6\", \"caxis\": {\"gridcolor\": \"white\", \"linecolor\": \"white\", \"ticks\": \"\"}}, \"title\": {\"x\": 0.05}, \"xaxis\": {\"automargin\": true, \"gridcolor\": \"white\", \"linecolor\": \"white\", \"ticks\": \"\", \"title\": {\"standoff\": 15}, \"zerolinecolor\": \"white\", \"zerolinewidth\": 2}, \"yaxis\": {\"automargin\": true, \"gridcolor\": \"white\", \"linecolor\": \"white\", \"ticks\": \"\", \"title\": {\"standoff\": 15}, \"zerolinecolor\": \"white\", \"zerolinewidth\": 2}}}, \"xaxis\": {\"anchor\": \"y\", \"domain\": [0.0, 1.0], \"title\": {\"text\": \"x\"}}, \"yaxis\": {\"anchor\": \"x\", \"domain\": [0.0, 1.0], \"title\": {\"text\": \"y\"}}},\n",
       "                        {\"responsive\": true}\n",
       "                    ).then(function(){\n",
       "                            \n",
       "var gd = document.getElementById('7a15b923-f6df-493c-893a-73289e034c72');\n",
       "var x = new MutationObserver(function (mutations, observer) {{\n",
       "        var display = window.getComputedStyle(gd).display;\n",
       "        if (!display || display === 'none') {{\n",
       "            console.log([gd, 'removed!']);\n",
       "            Plotly.purge(gd);\n",
       "            observer.disconnect();\n",
       "        }}\n",
       "}});\n",
       "\n",
       "// Listen for the removal of the full notebook cells\n",
       "var notebookContainer = gd.closest('#notebook-container');\n",
       "if (notebookContainer) {{\n",
       "    x.observe(notebookContainer, {childList: true});\n",
       "}}\n",
       "\n",
       "// Listen for the clearing of the current output cell\n",
       "var outputEl = gd.closest('.output');\n",
       "if (outputEl) {{\n",
       "    x.observe(outputEl, {childList: true});\n",
       "}}\n",
       "\n",
       "                        })\n",
       "                };\n",
       "                });\n",
       "            </script>\n",
       "        </div>"
      ]
     },
     "metadata": {},
     "output_type": "display_data"
    }
   ],
   "source": [
    "import plotly.express as px\n",
    "\n",
    "universum = Universum(100)\n",
    "\n",
    "fig = px.scatter(universum.to_pandas(), x = 'x', y = 'y', size = 'habitability', hover_data = ['name'], color = 'population')\n",
    "fig.show()"
   ]
  },
  {
   "cell_type": "code",
   "execution_count": null,
   "metadata": {},
   "outputs": [],
   "source": []
  }
 ],
 "metadata": {
  "kernelspec": {
   "display_name": "Python 3",
   "language": "python",
   "name": "python3"
  },
  "language_info": {
   "codemirror_mode": {
    "name": "ipython",
    "version": 3
   },
   "file_extension": ".py",
   "mimetype": "text/x-python",
   "name": "python",
   "nbconvert_exporter": "python",
   "pygments_lexer": "ipython3",
   "version": "3.6.0"
  }
 },
 "nbformat": 4,
 "nbformat_minor": 2
}
