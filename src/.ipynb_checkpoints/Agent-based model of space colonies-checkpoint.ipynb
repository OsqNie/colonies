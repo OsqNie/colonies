{
 "cells": [
  {
   "cell_type": "markdown",
   "metadata": {},
   "source": [
    "## An Agent-based model of economics of space colonies\n",
    "\n",
    "In this notebook we will create a rather simple look at economics between space colonies using an Agent-based model (ABM). ABMs are systems where individual organisms called agents follow a set of rules over a duration of a simulation. Mathematical simulations are often based on a set of equations describing an equilibrium of a system and studying effects leading to that point. ABMs by contrast work individually, often giving form to more complex phenomena if the agents are correctly set. This enables us to observe _emergence_ or the _\"whole is greater than the sum of its parts\"_ effect for complex systems.\n",
    "\n",
    "This simulation creates a simplified universe with *planets* and *colonies*, each of which is situated in a 2d space. We want to study how constraints on diminishing resources create a network of trade in this universe. The universe consists of only two materials\n",
    "\n",
    "- Commonium, a common material that is videly available on planets and is relatively cheap\n",
    "- Importatium, a relatively rare mineral that is used for high-tech development\n",
    "\n",
    "Additionally, each planet and colony will have the following traits\n",
    "\n",
    "- Habitability, a number between 0 and 100. The number represents how hostile the area is for permanent settlementation, either by humans or automata. Each unit of habitability under 100 increases the cost of running the settlement. Money can be spent to increase habitability of the area. Habitability decreases with consumption of resources.\n",
    "- Cost of operation: Cost to run the station, derived from habitability. Commonium and importantium are consumed for each person in the system.\n",
    "- Population. Population consumes resources and creates wealth for the planet. \n",
    "- Capital, the number of machinery on the planet. Capital is increased over time with a known constant.\n",
    "- Production. We will assume each planet porudces nothing but spaceships. A long shot, but this is a simple model. \n",
    "\n",
    "We use Cobb-Douglas productivity model (https://assets.aeaweb.org/asset-server/journals/aer/top20/18.1.139-165.pdf) of $Y = AK^\\alpha L^\\beta$, where $Y$ is the production output, $A$ is the scaling factor (often denoted productivity or technological prowess, which grows steadily over time), $K$ the amount of capital, $L$ the labour (equal to the population in our simulation) and $\\alpha, \\beta$ are constants for how much the output grows when one unit of capital or labor are added. Cobb and Douglas used values of $\\alpha = 1/4, \\beta = 3/4$ so we will run with those. A certain level of production is needed for spaceships, and spaceships wear down with time. They allow transportation of goods and people between planets. Spaceships have the following traits:\n",
    "\n",
    "- Cargo: We assume 10 tonnes of payload, with each person and his belongings weighting a tonne.\n",
    "- Cost to operate: a fixed sum of capital needed to run the spaceships\n",
    "- Speed: how long it takes to reach each planet or settlement\n",
    "\n",
    "The model is simple, so we will ignore most real-world restrictions. For example, we ignore the movement of planets, live on a 2d plane and disregard politics and sociology. We assume that the only motivation for humankind is to increase production indefinitely. The model aims to give a glimpse on how restricted resources give rise to colonies and the traffic flow between them\n",
    "\n",
    "This is not a factual model, rather a proof-of-concept designed to play around with dynamics of space colonies. Much further work is needed to derive meaningful real-world implications from this work."
   ]
  },
  {
   "cell_type": "code",
   "execution_count": 165,
   "metadata": {},
   "outputs": [],
   "source": [
    "import random\n",
    "import string\n",
    "import pandas as pd\n",
    "\n",
    "import math\n",
    "\n",
    "import plotly.express as px\n",
    "\n",
    "# Set repeatability\n",
    "random.seed(358)\n",
    "\n",
    "# Global variables\n",
    "A = 1 # A in Cobb-Douglas formula. For this project, A is also a proxy of human advanceness. It increases productivity but also the price and consumption of goods\n",
    "alpha = .25\n",
    "beta = .75\n",
    "cost_of_habitability = 100 # Production cost to offset one unit of habitability\n",
    "cost_of_improving_habitability = 1000 # Number of production needed to improve habitability by 1\n",
    "cost_of_breeding = A * 5\n",
    "population_consumption = .2 # How much production a single person uses\n",
    "deprecation_per_age = .1 # How much of capital is deprecated (ie. machines break down, food is wasted)\n",
    "population_growth_max = 1.3 # Coefficient of free exponential growth\n",
    "\n",
    "# Store the spaceships in space somewhere\n",
    "spaceships_in_space = []\n",
    "\n",
    "class Planet:\n",
    "    \n",
    "    # Initialise the planet\n",
    "    def __init__(self, name, x, y, habitability, population, capital, commonium, importantium):\n",
    "        self.age = 0\n",
    "        self.name = name\n",
    "        self.x = x # Coordinates of the planet\n",
    "        self.y = y\n",
    "        self.habitability = habitability # 0...100, with 100 being a habitable planet, 0 being the complete opposite\n",
    "        self.population = population \n",
    "        self.capital = capital # Capital is increased via production of goods\n",
    "        self.commonium = commonium # number of tonnes of material on the planet\n",
    "        self.importantium = importantium # number of tonnes of material on the planet\n",
    "        self.production = A*self.capital**alpha*self.population**beta # production\n",
    "        self.spaceships = []\n",
    "        \n",
    "    # Planets make autonomous decisions. Each planet has a few possibilities\n",
    "    # It must consume goods \n",
    "    def run_step(self):\n",
    "        \n",
    "        self.age += 1\n",
    "        \n",
    "        # First we produce material\n",
    "        self.production = A*(self.capital**alpha)*(self.population**beta)\n",
    "        if self.population == 0 or self.capital == 0:\n",
    "            self.production = 0\n",
    "        # Production uses up the planet's materials\n",
    "        self.commonium -= self.production\n",
    "        \n",
    "        if self.commonium < 0:\n",
    "            self.production = self.commonium\n",
    "            self.commonium = 0\n",
    "            \n",
    "        # Consume importantium for the amount of production\n",
    "        self.importantium -= min(A/10 * self.production, self.production) # Importantium use increases with age, but never exceeds commonium usage\n",
    "        \n",
    "        if self.importantium < 0:\n",
    "            self.production = self.importantium*10/A\n",
    "            self.importantium = 0\n",
    "            \n",
    "        \n",
    "        # Next we feed the people. Carrying capacity is related to production\n",
    "        carrying_capacity = self.production / population_consumption\n",
    "        \n",
    "        # If there are too many people, some unfortunately die off\n",
    "        if carrying_capacity < self.population:\n",
    "            self.population = math.floor(carrying_capacity)\n",
    "        \n",
    "        # Let us model a logistic growth model for population\n",
    "        if carrying_capacity == 0:\n",
    "            self.population = 0\n",
    "        else:\n",
    "            self.population += population_growth_max * (carrying_capacity - self.population) / carrying_capacity * self.population\n",
    "        \n",
    "        # Let population always be larger than 0\n",
    "        self.population = max(self.population, 0)\n",
    "        \n",
    "        # Then we feed the population\n",
    "        self.production -= self.population * population_consumption\n",
    "        # We also use production to account for lack of habitability\n",
    "        self.production -= self.population * (100 - self.habitability) * cost_of_habitability\n",
    "        \n",
    "        # The population is now sustained: all the production is used for increasing capital\n",
    "        self.capital += self.production\n",
    "        \n",
    "        # Some capital is deprecated\n",
    "        self.capital = self.capital * (1 - deprecation_per_age)\n",
    "        \n",
    "        self.production = max(0, self.production)\n",
    "        self.capital = max(0, self.capital)\n",
    "        \n",
    "        # If we can make a spaceship you can be damn sure we make one\n",
    "        cost_of_spaceship = max(10000, A/10*10000) # The price of spaceships increases as A increases\n",
    "        \n",
    "        while self.production >= cost_of_spaceship:\n",
    "            self.spaceships.append(Spaceship())\n",
    "            self.production -= cost_of_spaceship\n",
    "\n",
    "    # ***** Getters *****\n",
    "    def get_name(self):\n",
    "        return self.name\n",
    "    \n",
    "    # Get the current status of the planet after a step\n",
    "    def get_status(self, pandas = False):\n",
    "        ret = {\n",
    "            'age': self.age,\n",
    "            'habitability': self.habitability,\n",
    "            'population': self.population,\n",
    "            'capital': self.capital,\n",
    "            'commonium': self.commonium,\n",
    "            'importantium': self.importantium,\n",
    "            'production': self.production,\n",
    "            'spaceships': len(self.spaceships)\n",
    "        }\n",
    "        \n",
    "        if pandas:\n",
    "            return pd.DataFrame(ret)\n",
    "        else:\n",
    "            return ret\n",
    "        \n",
    "\n",
    "    def to_dict(self):\n",
    "        return {'name' : self.name, 'x' : self.x, 'y' : self.y, 'habitability' : self.habitability, 'population' : self.population, 'capital' : self.capital, 'commonium' : self.commonium, 'importantium' : self.importantium}\n",
    "\n",
    "    \n",
    "    def print_planet(self):\n",
    "        print('Planet x: {}, y: {}, habitability: {}, population: {}, capital: {}, commonium: {}, importantium: {}\\n'.format(self.x, self.y, self.habitability, self.population, self.capital, self.commonium, self.importantium))\n",
    "    \n",
    "\n",
    "class Spaceship:\n",
    "    \n",
    "    def __init__(self):\n",
    "        self.speed = 100\n",
    "        self.cargo = 10\n",
    "        self.fuel = None\n",
    "        self.cost_of_operation = 100\n",
    "        self.location = None # None or Planet\n",
    "        self.destination = None # When the ships are en route, this gets used to store the destination\n",
    "        self.distance_to_destination = None\n",
    "    \n",
    "    def refuel(self, fuel):\n",
    "        self.fuel += fuel\n",
    "    \n",
    "    def run_step(self):\n",
    "        self.distance_to_destination -= self.speed\n",
    "        # TODO: if we reach the destination, offload cargo, load new and off you go\n",
    "        \n",
    "        \n",
    "class Universum:\n",
    "    \n",
    "    def __init__(self, n_planets):\n",
    "        \n",
    "        max_x = 100\n",
    "        min_x = -100\n",
    "        max_y = 100\n",
    "        min_y = -100\n",
    "        \n",
    "        self.planets = []\n",
    "        # Generate Terra\n",
    "        self.planets.append(Planet(name = 'Terra', x = random.randint(min_x, max_x), y = random.randint(min_y, max_y), habitability = 100, population = 10, capital = 10, commonium = random.randint(100000,1000000), importantium = random.randint(100,10000)))\n",
    "    \n",
    "        for i in range(n_planets - 1):\n",
    "            self.planets.append(Planet(name = ''.join(random.choices(string.ascii_uppercase + string.digits, k=6)),x = random.randint(min_x, max_x), y = random.randint(min_y, max_y), habitability = random.randint(0,100), population = 0, capital = 0, commonium = random.randint(0,1000000), importantium = random.randint(0,1000000)))\n",
    "\n",
    "    def get_planet_by_name(self, name):\n",
    "        ids = None\n",
    "        \n",
    "        for idx, planet in enumerate(self.planets):\n",
    "            if planet.get_name() == name:\n",
    "                ids = idx\n",
    "                \n",
    "        if ids != None:\n",
    "            return self.planets[ids]\n",
    "        else:\n",
    "            return None\n",
    "        \n",
    "            \n",
    "    def get_planets(self):\n",
    "        return self.planets\n",
    "    \n",
    "    def print_planets(self):\n",
    "        for planet in self.planets:\n",
    "            planet.print_planet()\n",
    "            \n",
    "    def to_pandas(self):\n",
    "        i = 0\n",
    "        list_of_planets = []\n",
    "        for planet in self.planets:\n",
    "            list_of_planets.append(planet.to_dict())\n",
    "        return pd.DataFrame(list_of_planets)\n",
    "    \n",
    "    def visualize(self):\n",
    "        fig = px.scatter(self.to_pandas(), x = 'x', y = 'y', size = 'habitability', hover_data = ['name'], color = 'population')\n",
    "        fig.show()"
   ]
  },
  {
   "cell_type": "markdown",
   "metadata": {},
   "source": [
    "Now we can create and visualize our universum."
   ]
  },
  {
   "cell_type": "code",
   "execution_count": 166,
   "metadata": {},
   "outputs": [
    {
     "data": {
      "application/vnd.plotly.v1+json": {
       "config": {
        "plotlyServerURL": "https://plot.ly"
       },
       "data": [
        {
         "customdata": [
          [
           "Terra"
          ],
          [
           "06ACYB"
          ],
          [
           "FTVECP"
          ],
          [
           "GZRK3I"
          ],
          [
           "SNJCBU"
          ],
          [
           "YXZR4A"
          ],
          [
           "X1CRA4"
          ],
          [
           "X93LKZ"
          ],
          [
           "QU5ZI4"
          ],
          [
           "Z6XAQW"
          ],
          [
           "30Y0RE"
          ],
          [
           "ZAW4TA"
          ],
          [
           "6PJFGV"
          ],
          [
           "UZWTB7"
          ],
          [
           "F12U2O"
          ],
          [
           "LRG5WZ"
          ],
          [
           "X53DNZ"
          ],
          [
           "QWGZHI"
          ],
          [
           "TAPV47"
          ],
          [
           "WLSL33"
          ],
          [
           "F9QMHZ"
          ],
          [
           "EQL5DV"
          ],
          [
           "CMNDUV"
          ],
          [
           "LOAT4S"
          ],
          [
           "DK57MG"
          ],
          [
           "U8JC8Z"
          ],
          [
           "STXMZY"
          ],
          [
           "MFIR3I"
          ],
          [
           "8XC3BB"
          ],
          [
           "VDF4SC"
          ],
          [
           "LJ804R"
          ],
          [
           "IY7S93"
          ],
          [
           "NK8MKS"
          ],
          [
           "TQKVMX"
          ],
          [
           "OCUKND"
          ],
          [
           "BFPGL0"
          ],
          [
           "5X6KI5"
          ],
          [
           "ANLB61"
          ],
          [
           "FJ8HMF"
          ],
          [
           "HE5WXK"
          ],
          [
           "49Z3NF"
          ],
          [
           "AKNVQT"
          ],
          [
           "WSYSCX"
          ],
          [
           "IVQQ9F"
          ],
          [
           "FLLVAV"
          ],
          [
           "N1U4A9"
          ],
          [
           "UOQ1BW"
          ],
          [
           "D7UTDD"
          ],
          [
           "8026HI"
          ],
          [
           "HZBKUP"
          ],
          [
           "M7V194"
          ],
          [
           "WIOROG"
          ],
          [
           "5RLXQN"
          ],
          [
           "DX1O5N"
          ],
          [
           "1TYAOF"
          ],
          [
           "39VKNP"
          ],
          [
           "SEIONA"
          ],
          [
           "BVYFOL"
          ],
          [
           "OO8JSK"
          ],
          [
           "JU2Z54"
          ],
          [
           "IHNC6X"
          ],
          [
           "BJTEDO"
          ],
          [
           "9MWXNL"
          ],
          [
           "HB17VN"
          ],
          [
           "TQF2JM"
          ],
          [
           "HVUPPB"
          ],
          [
           "4WYB4P"
          ],
          [
           "CMP9H7"
          ],
          [
           "V0ZHD9"
          ],
          [
           "9YFXZ6"
          ],
          [
           "LAL9AT"
          ],
          [
           "ABAG68"
          ],
          [
           "8IGHQS"
          ],
          [
           "CC9A6A"
          ],
          [
           "S13SFX"
          ],
          [
           "KDYYII"
          ],
          [
           "HAH9I0"
          ],
          [
           "67U7VF"
          ],
          [
           "U6OSQ2"
          ],
          [
           "V1P7KT"
          ],
          [
           "T8OG42"
          ],
          [
           "1ZHBRM"
          ],
          [
           "YENXCB"
          ],
          [
           "81QCQ3"
          ],
          [
           "QJNFBB"
          ],
          [
           "VLSRBU"
          ],
          [
           "BLT9VI"
          ],
          [
           "6KRJ7K"
          ],
          [
           "O5QRVK"
          ],
          [
           "KERT61"
          ],
          [
           "IX1086"
          ],
          [
           "WR9K0S"
          ],
          [
           "6E1R2F"
          ],
          [
           "13I34C"
          ],
          [
           "YF2ZOO"
          ],
          [
           "WJZ5J2"
          ],
          [
           "PLDXY5"
          ],
          [
           "NS7I9N"
          ],
          [
           "91THCK"
          ],
          [
           "HC5CJF"
          ]
         ],
         "hoverlabel": {
          "namelength": 0
         },
         "hovertemplate": "x=%{x}<br>y=%{y}<br>habitability=%{marker.size}<br>name=%{customdata[0]}<br>population=%{marker.color}",
         "legendgroup": "",
         "marker": {
          "color": [
           10,
           0,
           0,
           0,
           0,
           0,
           0,
           0,
           0,
           0,
           0,
           0,
           0,
           0,
           0,
           0,
           0,
           0,
           0,
           0,
           0,
           0,
           0,
           0,
           0,
           0,
           0,
           0,
           0,
           0,
           0,
           0,
           0,
           0,
           0,
           0,
           0,
           0,
           0,
           0,
           0,
           0,
           0,
           0,
           0,
           0,
           0,
           0,
           0,
           0,
           0,
           0,
           0,
           0,
           0,
           0,
           0,
           0,
           0,
           0,
           0,
           0,
           0,
           0,
           0,
           0,
           0,
           0,
           0,
           0,
           0,
           0,
           0,
           0,
           0,
           0,
           0,
           0,
           0,
           0,
           0,
           0,
           0,
           0,
           0,
           0,
           0,
           0,
           0,
           0,
           0,
           0,
           0,
           0,
           0,
           0,
           0,
           0,
           0,
           0
          ],
          "coloraxis": "coloraxis",
          "size": [
           100,
           44,
           88,
           4,
           73,
           59,
           69,
           51,
           67,
           37,
           56,
           99,
           68,
           75,
           38,
           6,
           89,
           45,
           87,
           92,
           97,
           69,
           11,
           32,
           0,
           29,
           27,
           25,
           76,
           52,
           21,
           3,
           85,
           66,
           4,
           77,
           96,
           62,
           50,
           35,
           20,
           86,
           4,
           10,
           18,
           79,
           86,
           34,
           1,
           9,
           14,
           23,
           30,
           59,
           51,
           74,
           54,
           29,
           34,
           85,
           84,
           74,
           5,
           28,
           100,
           7,
           65,
           92,
           21,
           20,
           20,
           97,
           100,
           9,
           54,
           92,
           92,
           23,
           8,
           70,
           1,
           39,
           15,
           24,
           38,
           53,
           33,
           75,
           39,
           92,
           19,
           97,
           56,
           13,
           22,
           55,
           10,
           17,
           39,
           98
          ],
          "sizemode": "area",
          "sizeref": 0.25,
          "symbol": "circle"
         },
         "mode": "markers",
         "name": "",
         "showlegend": false,
         "type": "scatter",
         "x": [
          95,
          -20,
          -53,
          99,
          9,
          92,
          -95,
          70,
          -57,
          19,
          36,
          19,
          -44,
          86,
          -7,
          -39,
          4,
          -8,
          4,
          32,
          94,
          23,
          -33,
          -100,
          -81,
          -38,
          -60,
          6,
          100,
          95,
          -82,
          -43,
          -11,
          84,
          95,
          -17,
          -53,
          61,
          -69,
          14,
          73,
          -59,
          -11,
          -93,
          80,
          -47,
          15,
          -29,
          5,
          -35,
          -1,
          56,
          -78,
          -75,
          -12,
          -9,
          7,
          88,
          -2,
          -59,
          -14,
          -57,
          -48,
          52,
          -81,
          76,
          38,
          -39,
          55,
          44,
          -34,
          -64,
          -30,
          36,
          2,
          89,
          -14,
          100,
          -63,
          -70,
          -80,
          -64,
          87,
          22,
          76,
          -21,
          -8,
          20,
          -41,
          -44,
          80,
          60,
          -61,
          84,
          -90,
          -44,
          59,
          -71,
          -51,
          -44
         ],
         "xaxis": "x",
         "y": [
          -39,
          13,
          -50,
          14,
          -52,
          -98,
          -11,
          52,
          -59,
          26,
          -69,
          -5,
          -75,
          -15,
          83,
          -54,
          -3,
          -11,
          31,
          92,
          48,
          13,
          -35,
          92,
          82,
          -89,
          11,
          -24,
          18,
          58,
          -2,
          3,
          83,
          -82,
          -87,
          1,
          -66,
          44,
          -37,
          96,
          33,
          45,
          8,
          96,
          -82,
          58,
          -73,
          -96,
          45,
          51,
          6,
          -14,
          13,
          36,
          -36,
          21,
          -59,
          39,
          83,
          -52,
          12,
          94,
          -60,
          19,
          -62,
          -13,
          60,
          56,
          -64,
          20,
          -52,
          -88,
          10,
          31,
          59,
          1,
          -28,
          -46,
          36,
          -4,
          31,
          -1,
          29,
          75,
          -19,
          -51,
          72,
          85,
          -24,
          -25,
          95,
          -52,
          -25,
          44,
          92,
          -7,
          55,
          63,
          73,
          31
         ],
         "yaxis": "y"
        }
       ],
       "layout": {
        "coloraxis": {
         "colorbar": {
          "title": {
           "text": "population"
          }
         },
         "colorscale": [
          [
           0,
           "#0d0887"
          ],
          [
           0.1111111111111111,
           "#46039f"
          ],
          [
           0.2222222222222222,
           "#7201a8"
          ],
          [
           0.3333333333333333,
           "#9c179e"
          ],
          [
           0.4444444444444444,
           "#bd3786"
          ],
          [
           0.5555555555555556,
           "#d8576b"
          ],
          [
           0.6666666666666666,
           "#ed7953"
          ],
          [
           0.7777777777777778,
           "#fb9f3a"
          ],
          [
           0.8888888888888888,
           "#fdca26"
          ],
          [
           1,
           "#f0f921"
          ]
         ]
        },
        "legend": {
         "itemsizing": "constant",
         "tracegroupgap": 0
        },
        "margin": {
         "t": 60
        },
        "template": {
         "data": {
          "bar": [
           {
            "error_x": {
             "color": "#2a3f5f"
            },
            "error_y": {
             "color": "#2a3f5f"
            },
            "marker": {
             "line": {
              "color": "#E5ECF6",
              "width": 0.5
             }
            },
            "type": "bar"
           }
          ],
          "barpolar": [
           {
            "marker": {
             "line": {
              "color": "#E5ECF6",
              "width": 0.5
             }
            },
            "type": "barpolar"
           }
          ],
          "carpet": [
           {
            "aaxis": {
             "endlinecolor": "#2a3f5f",
             "gridcolor": "white",
             "linecolor": "white",
             "minorgridcolor": "white",
             "startlinecolor": "#2a3f5f"
            },
            "baxis": {
             "endlinecolor": "#2a3f5f",
             "gridcolor": "white",
             "linecolor": "white",
             "minorgridcolor": "white",
             "startlinecolor": "#2a3f5f"
            },
            "type": "carpet"
           }
          ],
          "choropleth": [
           {
            "colorbar": {
             "outlinewidth": 0,
             "ticks": ""
            },
            "type": "choropleth"
           }
          ],
          "contour": [
           {
            "colorbar": {
             "outlinewidth": 0,
             "ticks": ""
            },
            "colorscale": [
             [
              0,
              "#0d0887"
             ],
             [
              0.1111111111111111,
              "#46039f"
             ],
             [
              0.2222222222222222,
              "#7201a8"
             ],
             [
              0.3333333333333333,
              "#9c179e"
             ],
             [
              0.4444444444444444,
              "#bd3786"
             ],
             [
              0.5555555555555556,
              "#d8576b"
             ],
             [
              0.6666666666666666,
              "#ed7953"
             ],
             [
              0.7777777777777778,
              "#fb9f3a"
             ],
             [
              0.8888888888888888,
              "#fdca26"
             ],
             [
              1,
              "#f0f921"
             ]
            ],
            "type": "contour"
           }
          ],
          "contourcarpet": [
           {
            "colorbar": {
             "outlinewidth": 0,
             "ticks": ""
            },
            "type": "contourcarpet"
           }
          ],
          "heatmap": [
           {
            "colorbar": {
             "outlinewidth": 0,
             "ticks": ""
            },
            "colorscale": [
             [
              0,
              "#0d0887"
             ],
             [
              0.1111111111111111,
              "#46039f"
             ],
             [
              0.2222222222222222,
              "#7201a8"
             ],
             [
              0.3333333333333333,
              "#9c179e"
             ],
             [
              0.4444444444444444,
              "#bd3786"
             ],
             [
              0.5555555555555556,
              "#d8576b"
             ],
             [
              0.6666666666666666,
              "#ed7953"
             ],
             [
              0.7777777777777778,
              "#fb9f3a"
             ],
             [
              0.8888888888888888,
              "#fdca26"
             ],
             [
              1,
              "#f0f921"
             ]
            ],
            "type": "heatmap"
           }
          ],
          "heatmapgl": [
           {
            "colorbar": {
             "outlinewidth": 0,
             "ticks": ""
            },
            "colorscale": [
             [
              0,
              "#0d0887"
             ],
             [
              0.1111111111111111,
              "#46039f"
             ],
             [
              0.2222222222222222,
              "#7201a8"
             ],
             [
              0.3333333333333333,
              "#9c179e"
             ],
             [
              0.4444444444444444,
              "#bd3786"
             ],
             [
              0.5555555555555556,
              "#d8576b"
             ],
             [
              0.6666666666666666,
              "#ed7953"
             ],
             [
              0.7777777777777778,
              "#fb9f3a"
             ],
             [
              0.8888888888888888,
              "#fdca26"
             ],
             [
              1,
              "#f0f921"
             ]
            ],
            "type": "heatmapgl"
           }
          ],
          "histogram": [
           {
            "marker": {
             "colorbar": {
              "outlinewidth": 0,
              "ticks": ""
             }
            },
            "type": "histogram"
           }
          ],
          "histogram2d": [
           {
            "colorbar": {
             "outlinewidth": 0,
             "ticks": ""
            },
            "colorscale": [
             [
              0,
              "#0d0887"
             ],
             [
              0.1111111111111111,
              "#46039f"
             ],
             [
              0.2222222222222222,
              "#7201a8"
             ],
             [
              0.3333333333333333,
              "#9c179e"
             ],
             [
              0.4444444444444444,
              "#bd3786"
             ],
             [
              0.5555555555555556,
              "#d8576b"
             ],
             [
              0.6666666666666666,
              "#ed7953"
             ],
             [
              0.7777777777777778,
              "#fb9f3a"
             ],
             [
              0.8888888888888888,
              "#fdca26"
             ],
             [
              1,
              "#f0f921"
             ]
            ],
            "type": "histogram2d"
           }
          ],
          "histogram2dcontour": [
           {
            "colorbar": {
             "outlinewidth": 0,
             "ticks": ""
            },
            "colorscale": [
             [
              0,
              "#0d0887"
             ],
             [
              0.1111111111111111,
              "#46039f"
             ],
             [
              0.2222222222222222,
              "#7201a8"
             ],
             [
              0.3333333333333333,
              "#9c179e"
             ],
             [
              0.4444444444444444,
              "#bd3786"
             ],
             [
              0.5555555555555556,
              "#d8576b"
             ],
             [
              0.6666666666666666,
              "#ed7953"
             ],
             [
              0.7777777777777778,
              "#fb9f3a"
             ],
             [
              0.8888888888888888,
              "#fdca26"
             ],
             [
              1,
              "#f0f921"
             ]
            ],
            "type": "histogram2dcontour"
           }
          ],
          "mesh3d": [
           {
            "colorbar": {
             "outlinewidth": 0,
             "ticks": ""
            },
            "type": "mesh3d"
           }
          ],
          "parcoords": [
           {
            "line": {
             "colorbar": {
              "outlinewidth": 0,
              "ticks": ""
             }
            },
            "type": "parcoords"
           }
          ],
          "pie": [
           {
            "automargin": true,
            "type": "pie"
           }
          ],
          "scatter": [
           {
            "marker": {
             "colorbar": {
              "outlinewidth": 0,
              "ticks": ""
             }
            },
            "type": "scatter"
           }
          ],
          "scatter3d": [
           {
            "line": {
             "colorbar": {
              "outlinewidth": 0,
              "ticks": ""
             }
            },
            "marker": {
             "colorbar": {
              "outlinewidth": 0,
              "ticks": ""
             }
            },
            "type": "scatter3d"
           }
          ],
          "scattercarpet": [
           {
            "marker": {
             "colorbar": {
              "outlinewidth": 0,
              "ticks": ""
             }
            },
            "type": "scattercarpet"
           }
          ],
          "scattergeo": [
           {
            "marker": {
             "colorbar": {
              "outlinewidth": 0,
              "ticks": ""
             }
            },
            "type": "scattergeo"
           }
          ],
          "scattergl": [
           {
            "marker": {
             "colorbar": {
              "outlinewidth": 0,
              "ticks": ""
             }
            },
            "type": "scattergl"
           }
          ],
          "scattermapbox": [
           {
            "marker": {
             "colorbar": {
              "outlinewidth": 0,
              "ticks": ""
             }
            },
            "type": "scattermapbox"
           }
          ],
          "scatterpolar": [
           {
            "marker": {
             "colorbar": {
              "outlinewidth": 0,
              "ticks": ""
             }
            },
            "type": "scatterpolar"
           }
          ],
          "scatterpolargl": [
           {
            "marker": {
             "colorbar": {
              "outlinewidth": 0,
              "ticks": ""
             }
            },
            "type": "scatterpolargl"
           }
          ],
          "scatterternary": [
           {
            "marker": {
             "colorbar": {
              "outlinewidth": 0,
              "ticks": ""
             }
            },
            "type": "scatterternary"
           }
          ],
          "surface": [
           {
            "colorbar": {
             "outlinewidth": 0,
             "ticks": ""
            },
            "colorscale": [
             [
              0,
              "#0d0887"
             ],
             [
              0.1111111111111111,
              "#46039f"
             ],
             [
              0.2222222222222222,
              "#7201a8"
             ],
             [
              0.3333333333333333,
              "#9c179e"
             ],
             [
              0.4444444444444444,
              "#bd3786"
             ],
             [
              0.5555555555555556,
              "#d8576b"
             ],
             [
              0.6666666666666666,
              "#ed7953"
             ],
             [
              0.7777777777777778,
              "#fb9f3a"
             ],
             [
              0.8888888888888888,
              "#fdca26"
             ],
             [
              1,
              "#f0f921"
             ]
            ],
            "type": "surface"
           }
          ],
          "table": [
           {
            "cells": {
             "fill": {
              "color": "#EBF0F8"
             },
             "line": {
              "color": "white"
             }
            },
            "header": {
             "fill": {
              "color": "#C8D4E3"
             },
             "line": {
              "color": "white"
             }
            },
            "type": "table"
           }
          ]
         },
         "layout": {
          "annotationdefaults": {
           "arrowcolor": "#2a3f5f",
           "arrowhead": 0,
           "arrowwidth": 1
          },
          "coloraxis": {
           "colorbar": {
            "outlinewidth": 0,
            "ticks": ""
           }
          },
          "colorscale": {
           "diverging": [
            [
             0,
             "#8e0152"
            ],
            [
             0.1,
             "#c51b7d"
            ],
            [
             0.2,
             "#de77ae"
            ],
            [
             0.3,
             "#f1b6da"
            ],
            [
             0.4,
             "#fde0ef"
            ],
            [
             0.5,
             "#f7f7f7"
            ],
            [
             0.6,
             "#e6f5d0"
            ],
            [
             0.7,
             "#b8e186"
            ],
            [
             0.8,
             "#7fbc41"
            ],
            [
             0.9,
             "#4d9221"
            ],
            [
             1,
             "#276419"
            ]
           ],
           "sequential": [
            [
             0,
             "#0d0887"
            ],
            [
             0.1111111111111111,
             "#46039f"
            ],
            [
             0.2222222222222222,
             "#7201a8"
            ],
            [
             0.3333333333333333,
             "#9c179e"
            ],
            [
             0.4444444444444444,
             "#bd3786"
            ],
            [
             0.5555555555555556,
             "#d8576b"
            ],
            [
             0.6666666666666666,
             "#ed7953"
            ],
            [
             0.7777777777777778,
             "#fb9f3a"
            ],
            [
             0.8888888888888888,
             "#fdca26"
            ],
            [
             1,
             "#f0f921"
            ]
           ],
           "sequentialminus": [
            [
             0,
             "#0d0887"
            ],
            [
             0.1111111111111111,
             "#46039f"
            ],
            [
             0.2222222222222222,
             "#7201a8"
            ],
            [
             0.3333333333333333,
             "#9c179e"
            ],
            [
             0.4444444444444444,
             "#bd3786"
            ],
            [
             0.5555555555555556,
             "#d8576b"
            ],
            [
             0.6666666666666666,
             "#ed7953"
            ],
            [
             0.7777777777777778,
             "#fb9f3a"
            ],
            [
             0.8888888888888888,
             "#fdca26"
            ],
            [
             1,
             "#f0f921"
            ]
           ]
          },
          "colorway": [
           "#636efa",
           "#EF553B",
           "#00cc96",
           "#ab63fa",
           "#FFA15A",
           "#19d3f3",
           "#FF6692",
           "#B6E880",
           "#FF97FF",
           "#FECB52"
          ],
          "font": {
           "color": "#2a3f5f"
          },
          "geo": {
           "bgcolor": "white",
           "lakecolor": "white",
           "landcolor": "#E5ECF6",
           "showlakes": true,
           "showland": true,
           "subunitcolor": "white"
          },
          "hoverlabel": {
           "align": "left"
          },
          "hovermode": "closest",
          "mapbox": {
           "style": "light"
          },
          "paper_bgcolor": "white",
          "plot_bgcolor": "#E5ECF6",
          "polar": {
           "angularaxis": {
            "gridcolor": "white",
            "linecolor": "white",
            "ticks": ""
           },
           "bgcolor": "#E5ECF6",
           "radialaxis": {
            "gridcolor": "white",
            "linecolor": "white",
            "ticks": ""
           }
          },
          "scene": {
           "xaxis": {
            "backgroundcolor": "#E5ECF6",
            "gridcolor": "white",
            "gridwidth": 2,
            "linecolor": "white",
            "showbackground": true,
            "ticks": "",
            "zerolinecolor": "white"
           },
           "yaxis": {
            "backgroundcolor": "#E5ECF6",
            "gridcolor": "white",
            "gridwidth": 2,
            "linecolor": "white",
            "showbackground": true,
            "ticks": "",
            "zerolinecolor": "white"
           },
           "zaxis": {
            "backgroundcolor": "#E5ECF6",
            "gridcolor": "white",
            "gridwidth": 2,
            "linecolor": "white",
            "showbackground": true,
            "ticks": "",
            "zerolinecolor": "white"
           }
          },
          "shapedefaults": {
           "line": {
            "color": "#2a3f5f"
           }
          },
          "ternary": {
           "aaxis": {
            "gridcolor": "white",
            "linecolor": "white",
            "ticks": ""
           },
           "baxis": {
            "gridcolor": "white",
            "linecolor": "white",
            "ticks": ""
           },
           "bgcolor": "#E5ECF6",
           "caxis": {
            "gridcolor": "white",
            "linecolor": "white",
            "ticks": ""
           }
          },
          "title": {
           "x": 0.05
          },
          "xaxis": {
           "automargin": true,
           "gridcolor": "white",
           "linecolor": "white",
           "ticks": "",
           "title": {
            "standoff": 15
           },
           "zerolinecolor": "white",
           "zerolinewidth": 2
          },
          "yaxis": {
           "automargin": true,
           "gridcolor": "white",
           "linecolor": "white",
           "ticks": "",
           "title": {
            "standoff": 15
           },
           "zerolinecolor": "white",
           "zerolinewidth": 2
          }
         }
        },
        "xaxis": {
         "anchor": "y",
         "domain": [
          0,
          1
         ],
         "title": {
          "text": "x"
         }
        },
        "yaxis": {
         "anchor": "x",
         "domain": [
          0,
          1
         ],
         "title": {
          "text": "y"
         }
        }
       }
      },
      "text/html": [
       "<div>\n",
       "        \n",
       "        \n",
       "            <div id=\"07d81956-f05c-4693-96d8-3c42e0338bf5\" class=\"plotly-graph-div\" style=\"height:525px; width:100%;\"></div>\n",
       "            <script type=\"text/javascript\">\n",
       "                require([\"plotly\"], function(Plotly) {\n",
       "                    window.PLOTLYENV=window.PLOTLYENV || {};\n",
       "                    \n",
       "                if (document.getElementById(\"07d81956-f05c-4693-96d8-3c42e0338bf5\")) {\n",
       "                    Plotly.newPlot(\n",
       "                        '07d81956-f05c-4693-96d8-3c42e0338bf5',\n",
       "                        [{\"customdata\": [[\"Terra\"], [\"06ACYB\"], [\"FTVECP\"], [\"GZRK3I\"], [\"SNJCBU\"], [\"YXZR4A\"], [\"X1CRA4\"], [\"X93LKZ\"], [\"QU5ZI4\"], [\"Z6XAQW\"], [\"30Y0RE\"], [\"ZAW4TA\"], [\"6PJFGV\"], [\"UZWTB7\"], [\"F12U2O\"], [\"LRG5WZ\"], [\"X53DNZ\"], [\"QWGZHI\"], [\"TAPV47\"], [\"WLSL33\"], [\"F9QMHZ\"], [\"EQL5DV\"], [\"CMNDUV\"], [\"LOAT4S\"], [\"DK57MG\"], [\"U8JC8Z\"], [\"STXMZY\"], [\"MFIR3I\"], [\"8XC3BB\"], [\"VDF4SC\"], [\"LJ804R\"], [\"IY7S93\"], [\"NK8MKS\"], [\"TQKVMX\"], [\"OCUKND\"], [\"BFPGL0\"], [\"5X6KI5\"], [\"ANLB61\"], [\"FJ8HMF\"], [\"HE5WXK\"], [\"49Z3NF\"], [\"AKNVQT\"], [\"WSYSCX\"], [\"IVQQ9F\"], [\"FLLVAV\"], [\"N1U4A9\"], [\"UOQ1BW\"], [\"D7UTDD\"], [\"8026HI\"], [\"HZBKUP\"], [\"M7V194\"], [\"WIOROG\"], [\"5RLXQN\"], [\"DX1O5N\"], [\"1TYAOF\"], [\"39VKNP\"], [\"SEIONA\"], [\"BVYFOL\"], [\"OO8JSK\"], [\"JU2Z54\"], [\"IHNC6X\"], [\"BJTEDO\"], [\"9MWXNL\"], [\"HB17VN\"], [\"TQF2JM\"], [\"HVUPPB\"], [\"4WYB4P\"], [\"CMP9H7\"], [\"V0ZHD9\"], [\"9YFXZ6\"], [\"LAL9AT\"], [\"ABAG68\"], [\"8IGHQS\"], [\"CC9A6A\"], [\"S13SFX\"], [\"KDYYII\"], [\"HAH9I0\"], [\"67U7VF\"], [\"U6OSQ2\"], [\"V1P7KT\"], [\"T8OG42\"], [\"1ZHBRM\"], [\"YENXCB\"], [\"81QCQ3\"], [\"QJNFBB\"], [\"VLSRBU\"], [\"BLT9VI\"], [\"6KRJ7K\"], [\"O5QRVK\"], [\"KERT61\"], [\"IX1086\"], [\"WR9K0S\"], [\"6E1R2F\"], [\"13I34C\"], [\"YF2ZOO\"], [\"WJZ5J2\"], [\"PLDXY5\"], [\"NS7I9N\"], [\"91THCK\"], [\"HC5CJF\"]], \"hoverlabel\": {\"namelength\": 0}, \"hovertemplate\": \"x=%{x}<br>y=%{y}<br>habitability=%{marker.size}<br>name=%{customdata[0]}<br>population=%{marker.color}\", \"legendgroup\": \"\", \"marker\": {\"color\": [10, 0, 0, 0, 0, 0, 0, 0, 0, 0, 0, 0, 0, 0, 0, 0, 0, 0, 0, 0, 0, 0, 0, 0, 0, 0, 0, 0, 0, 0, 0, 0, 0, 0, 0, 0, 0, 0, 0, 0, 0, 0, 0, 0, 0, 0, 0, 0, 0, 0, 0, 0, 0, 0, 0, 0, 0, 0, 0, 0, 0, 0, 0, 0, 0, 0, 0, 0, 0, 0, 0, 0, 0, 0, 0, 0, 0, 0, 0, 0, 0, 0, 0, 0, 0, 0, 0, 0, 0, 0, 0, 0, 0, 0, 0, 0, 0, 0, 0, 0], \"coloraxis\": \"coloraxis\", \"size\": [100, 44, 88, 4, 73, 59, 69, 51, 67, 37, 56, 99, 68, 75, 38, 6, 89, 45, 87, 92, 97, 69, 11, 32, 0, 29, 27, 25, 76, 52, 21, 3, 85, 66, 4, 77, 96, 62, 50, 35, 20, 86, 4, 10, 18, 79, 86, 34, 1, 9, 14, 23, 30, 59, 51, 74, 54, 29, 34, 85, 84, 74, 5, 28, 100, 7, 65, 92, 21, 20, 20, 97, 100, 9, 54, 92, 92, 23, 8, 70, 1, 39, 15, 24, 38, 53, 33, 75, 39, 92, 19, 97, 56, 13, 22, 55, 10, 17, 39, 98], \"sizemode\": \"area\", \"sizeref\": 0.25, \"symbol\": \"circle\"}, \"mode\": \"markers\", \"name\": \"\", \"showlegend\": false, \"type\": \"scatter\", \"x\": [95, -20, -53, 99, 9, 92, -95, 70, -57, 19, 36, 19, -44, 86, -7, -39, 4, -8, 4, 32, 94, 23, -33, -100, -81, -38, -60, 6, 100, 95, -82, -43, -11, 84, 95, -17, -53, 61, -69, 14, 73, -59, -11, -93, 80, -47, 15, -29, 5, -35, -1, 56, -78, -75, -12, -9, 7, 88, -2, -59, -14, -57, -48, 52, -81, 76, 38, -39, 55, 44, -34, -64, -30, 36, 2, 89, -14, 100, -63, -70, -80, -64, 87, 22, 76, -21, -8, 20, -41, -44, 80, 60, -61, 84, -90, -44, 59, -71, -51, -44], \"xaxis\": \"x\", \"y\": [-39, 13, -50, 14, -52, -98, -11, 52, -59, 26, -69, -5, -75, -15, 83, -54, -3, -11, 31, 92, 48, 13, -35, 92, 82, -89, 11, -24, 18, 58, -2, 3, 83, -82, -87, 1, -66, 44, -37, 96, 33, 45, 8, 96, -82, 58, -73, -96, 45, 51, 6, -14, 13, 36, -36, 21, -59, 39, 83, -52, 12, 94, -60, 19, -62, -13, 60, 56, -64, 20, -52, -88, 10, 31, 59, 1, -28, -46, 36, -4, 31, -1, 29, 75, -19, -51, 72, 85, -24, -25, 95, -52, -25, 44, 92, -7, 55, 63, 73, 31], \"yaxis\": \"y\"}],\n",
       "                        {\"coloraxis\": {\"colorbar\": {\"title\": {\"text\": \"population\"}}, \"colorscale\": [[0.0, \"#0d0887\"], [0.1111111111111111, \"#46039f\"], [0.2222222222222222, \"#7201a8\"], [0.3333333333333333, \"#9c179e\"], [0.4444444444444444, \"#bd3786\"], [0.5555555555555556, \"#d8576b\"], [0.6666666666666666, \"#ed7953\"], [0.7777777777777778, \"#fb9f3a\"], [0.8888888888888888, \"#fdca26\"], [1.0, \"#f0f921\"]]}, \"legend\": {\"itemsizing\": \"constant\", \"tracegroupgap\": 0}, \"margin\": {\"t\": 60}, \"template\": {\"data\": {\"bar\": [{\"error_x\": {\"color\": \"#2a3f5f\"}, \"error_y\": {\"color\": \"#2a3f5f\"}, \"marker\": {\"line\": {\"color\": \"#E5ECF6\", \"width\": 0.5}}, \"type\": \"bar\"}], \"barpolar\": [{\"marker\": {\"line\": {\"color\": \"#E5ECF6\", \"width\": 0.5}}, \"type\": \"barpolar\"}], \"carpet\": [{\"aaxis\": {\"endlinecolor\": \"#2a3f5f\", \"gridcolor\": \"white\", \"linecolor\": \"white\", \"minorgridcolor\": \"white\", \"startlinecolor\": \"#2a3f5f\"}, \"baxis\": {\"endlinecolor\": \"#2a3f5f\", \"gridcolor\": \"white\", \"linecolor\": \"white\", \"minorgridcolor\": \"white\", \"startlinecolor\": \"#2a3f5f\"}, \"type\": \"carpet\"}], \"choropleth\": [{\"colorbar\": {\"outlinewidth\": 0, \"ticks\": \"\"}, \"type\": \"choropleth\"}], \"contour\": [{\"colorbar\": {\"outlinewidth\": 0, \"ticks\": \"\"}, \"colorscale\": [[0.0, \"#0d0887\"], [0.1111111111111111, \"#46039f\"], [0.2222222222222222, \"#7201a8\"], [0.3333333333333333, \"#9c179e\"], [0.4444444444444444, \"#bd3786\"], [0.5555555555555556, \"#d8576b\"], [0.6666666666666666, \"#ed7953\"], [0.7777777777777778, \"#fb9f3a\"], [0.8888888888888888, \"#fdca26\"], [1.0, \"#f0f921\"]], \"type\": \"contour\"}], \"contourcarpet\": [{\"colorbar\": {\"outlinewidth\": 0, \"ticks\": \"\"}, \"type\": \"contourcarpet\"}], \"heatmap\": [{\"colorbar\": {\"outlinewidth\": 0, \"ticks\": \"\"}, \"colorscale\": [[0.0, \"#0d0887\"], [0.1111111111111111, \"#46039f\"], [0.2222222222222222, \"#7201a8\"], [0.3333333333333333, \"#9c179e\"], [0.4444444444444444, \"#bd3786\"], [0.5555555555555556, \"#d8576b\"], [0.6666666666666666, \"#ed7953\"], [0.7777777777777778, \"#fb9f3a\"], [0.8888888888888888, \"#fdca26\"], [1.0, \"#f0f921\"]], \"type\": \"heatmap\"}], \"heatmapgl\": [{\"colorbar\": {\"outlinewidth\": 0, \"ticks\": \"\"}, \"colorscale\": [[0.0, \"#0d0887\"], [0.1111111111111111, \"#46039f\"], [0.2222222222222222, \"#7201a8\"], [0.3333333333333333, \"#9c179e\"], [0.4444444444444444, \"#bd3786\"], [0.5555555555555556, \"#d8576b\"], [0.6666666666666666, \"#ed7953\"], [0.7777777777777778, \"#fb9f3a\"], [0.8888888888888888, \"#fdca26\"], [1.0, \"#f0f921\"]], \"type\": \"heatmapgl\"}], \"histogram\": [{\"marker\": {\"colorbar\": {\"outlinewidth\": 0, \"ticks\": \"\"}}, \"type\": \"histogram\"}], \"histogram2d\": [{\"colorbar\": {\"outlinewidth\": 0, \"ticks\": \"\"}, \"colorscale\": [[0.0, \"#0d0887\"], [0.1111111111111111, \"#46039f\"], [0.2222222222222222, \"#7201a8\"], [0.3333333333333333, \"#9c179e\"], [0.4444444444444444, \"#bd3786\"], [0.5555555555555556, \"#d8576b\"], [0.6666666666666666, \"#ed7953\"], [0.7777777777777778, \"#fb9f3a\"], [0.8888888888888888, \"#fdca26\"], [1.0, \"#f0f921\"]], \"type\": \"histogram2d\"}], \"histogram2dcontour\": [{\"colorbar\": {\"outlinewidth\": 0, \"ticks\": \"\"}, \"colorscale\": [[0.0, \"#0d0887\"], [0.1111111111111111, \"#46039f\"], [0.2222222222222222, \"#7201a8\"], [0.3333333333333333, \"#9c179e\"], [0.4444444444444444, \"#bd3786\"], [0.5555555555555556, \"#d8576b\"], [0.6666666666666666, \"#ed7953\"], [0.7777777777777778, \"#fb9f3a\"], [0.8888888888888888, \"#fdca26\"], [1.0, \"#f0f921\"]], \"type\": \"histogram2dcontour\"}], \"mesh3d\": [{\"colorbar\": {\"outlinewidth\": 0, \"ticks\": \"\"}, \"type\": \"mesh3d\"}], \"parcoords\": [{\"line\": {\"colorbar\": {\"outlinewidth\": 0, \"ticks\": \"\"}}, \"type\": \"parcoords\"}], \"pie\": [{\"automargin\": true, \"type\": \"pie\"}], \"scatter\": [{\"marker\": {\"colorbar\": {\"outlinewidth\": 0, \"ticks\": \"\"}}, \"type\": \"scatter\"}], \"scatter3d\": [{\"line\": {\"colorbar\": {\"outlinewidth\": 0, \"ticks\": \"\"}}, \"marker\": {\"colorbar\": {\"outlinewidth\": 0, \"ticks\": \"\"}}, \"type\": \"scatter3d\"}], \"scattercarpet\": [{\"marker\": {\"colorbar\": {\"outlinewidth\": 0, \"ticks\": \"\"}}, \"type\": \"scattercarpet\"}], \"scattergeo\": [{\"marker\": {\"colorbar\": {\"outlinewidth\": 0, \"ticks\": \"\"}}, \"type\": \"scattergeo\"}], \"scattergl\": [{\"marker\": {\"colorbar\": {\"outlinewidth\": 0, \"ticks\": \"\"}}, \"type\": \"scattergl\"}], \"scattermapbox\": [{\"marker\": {\"colorbar\": {\"outlinewidth\": 0, \"ticks\": \"\"}}, \"type\": \"scattermapbox\"}], \"scatterpolar\": [{\"marker\": {\"colorbar\": {\"outlinewidth\": 0, \"ticks\": \"\"}}, \"type\": \"scatterpolar\"}], \"scatterpolargl\": [{\"marker\": {\"colorbar\": {\"outlinewidth\": 0, \"ticks\": \"\"}}, \"type\": \"scatterpolargl\"}], \"scatterternary\": [{\"marker\": {\"colorbar\": {\"outlinewidth\": 0, \"ticks\": \"\"}}, \"type\": \"scatterternary\"}], \"surface\": [{\"colorbar\": {\"outlinewidth\": 0, \"ticks\": \"\"}, \"colorscale\": [[0.0, \"#0d0887\"], [0.1111111111111111, \"#46039f\"], [0.2222222222222222, \"#7201a8\"], [0.3333333333333333, \"#9c179e\"], [0.4444444444444444, \"#bd3786\"], [0.5555555555555556, \"#d8576b\"], [0.6666666666666666, \"#ed7953\"], [0.7777777777777778, \"#fb9f3a\"], [0.8888888888888888, \"#fdca26\"], [1.0, \"#f0f921\"]], \"type\": \"surface\"}], \"table\": [{\"cells\": {\"fill\": {\"color\": \"#EBF0F8\"}, \"line\": {\"color\": \"white\"}}, \"header\": {\"fill\": {\"color\": \"#C8D4E3\"}, \"line\": {\"color\": \"white\"}}, \"type\": \"table\"}]}, \"layout\": {\"annotationdefaults\": {\"arrowcolor\": \"#2a3f5f\", \"arrowhead\": 0, \"arrowwidth\": 1}, \"coloraxis\": {\"colorbar\": {\"outlinewidth\": 0, \"ticks\": \"\"}}, \"colorscale\": {\"diverging\": [[0, \"#8e0152\"], [0.1, \"#c51b7d\"], [0.2, \"#de77ae\"], [0.3, \"#f1b6da\"], [0.4, \"#fde0ef\"], [0.5, \"#f7f7f7\"], [0.6, \"#e6f5d0\"], [0.7, \"#b8e186\"], [0.8, \"#7fbc41\"], [0.9, \"#4d9221\"], [1, \"#276419\"]], \"sequential\": [[0.0, \"#0d0887\"], [0.1111111111111111, \"#46039f\"], [0.2222222222222222, \"#7201a8\"], [0.3333333333333333, \"#9c179e\"], [0.4444444444444444, \"#bd3786\"], [0.5555555555555556, \"#d8576b\"], [0.6666666666666666, \"#ed7953\"], [0.7777777777777778, \"#fb9f3a\"], [0.8888888888888888, \"#fdca26\"], [1.0, \"#f0f921\"]], \"sequentialminus\": [[0.0, \"#0d0887\"], [0.1111111111111111, \"#46039f\"], [0.2222222222222222, \"#7201a8\"], [0.3333333333333333, \"#9c179e\"], [0.4444444444444444, \"#bd3786\"], [0.5555555555555556, \"#d8576b\"], [0.6666666666666666, \"#ed7953\"], [0.7777777777777778, \"#fb9f3a\"], [0.8888888888888888, \"#fdca26\"], [1.0, \"#f0f921\"]]}, \"colorway\": [\"#636efa\", \"#EF553B\", \"#00cc96\", \"#ab63fa\", \"#FFA15A\", \"#19d3f3\", \"#FF6692\", \"#B6E880\", \"#FF97FF\", \"#FECB52\"], \"font\": {\"color\": \"#2a3f5f\"}, \"geo\": {\"bgcolor\": \"white\", \"lakecolor\": \"white\", \"landcolor\": \"#E5ECF6\", \"showlakes\": true, \"showland\": true, \"subunitcolor\": \"white\"}, \"hoverlabel\": {\"align\": \"left\"}, \"hovermode\": \"closest\", \"mapbox\": {\"style\": \"light\"}, \"paper_bgcolor\": \"white\", \"plot_bgcolor\": \"#E5ECF6\", \"polar\": {\"angularaxis\": {\"gridcolor\": \"white\", \"linecolor\": \"white\", \"ticks\": \"\"}, \"bgcolor\": \"#E5ECF6\", \"radialaxis\": {\"gridcolor\": \"white\", \"linecolor\": \"white\", \"ticks\": \"\"}}, \"scene\": {\"xaxis\": {\"backgroundcolor\": \"#E5ECF6\", \"gridcolor\": \"white\", \"gridwidth\": 2, \"linecolor\": \"white\", \"showbackground\": true, \"ticks\": \"\", \"zerolinecolor\": \"white\"}, \"yaxis\": {\"backgroundcolor\": \"#E5ECF6\", \"gridcolor\": \"white\", \"gridwidth\": 2, \"linecolor\": \"white\", \"showbackground\": true, \"ticks\": \"\", \"zerolinecolor\": \"white\"}, \"zaxis\": {\"backgroundcolor\": \"#E5ECF6\", \"gridcolor\": \"white\", \"gridwidth\": 2, \"linecolor\": \"white\", \"showbackground\": true, \"ticks\": \"\", \"zerolinecolor\": \"white\"}}, \"shapedefaults\": {\"line\": {\"color\": \"#2a3f5f\"}}, \"ternary\": {\"aaxis\": {\"gridcolor\": \"white\", \"linecolor\": \"white\", \"ticks\": \"\"}, \"baxis\": {\"gridcolor\": \"white\", \"linecolor\": \"white\", \"ticks\": \"\"}, \"bgcolor\": \"#E5ECF6\", \"caxis\": {\"gridcolor\": \"white\", \"linecolor\": \"white\", \"ticks\": \"\"}}, \"title\": {\"x\": 0.05}, \"xaxis\": {\"automargin\": true, \"gridcolor\": \"white\", \"linecolor\": \"white\", \"ticks\": \"\", \"title\": {\"standoff\": 15}, \"zerolinecolor\": \"white\", \"zerolinewidth\": 2}, \"yaxis\": {\"automargin\": true, \"gridcolor\": \"white\", \"linecolor\": \"white\", \"ticks\": \"\", \"title\": {\"standoff\": 15}, \"zerolinecolor\": \"white\", \"zerolinewidth\": 2}}}, \"xaxis\": {\"anchor\": \"y\", \"domain\": [0.0, 1.0], \"title\": {\"text\": \"x\"}}, \"yaxis\": {\"anchor\": \"x\", \"domain\": [0.0, 1.0], \"title\": {\"text\": \"y\"}}},\n",
       "                        {\"responsive\": true}\n",
       "                    ).then(function(){\n",
       "                            \n",
       "var gd = document.getElementById('07d81956-f05c-4693-96d8-3c42e0338bf5');\n",
       "var x = new MutationObserver(function (mutations, observer) {{\n",
       "        var display = window.getComputedStyle(gd).display;\n",
       "        if (!display || display === 'none') {{\n",
       "            console.log([gd, 'removed!']);\n",
       "            Plotly.purge(gd);\n",
       "            observer.disconnect();\n",
       "        }}\n",
       "}});\n",
       "\n",
       "// Listen for the removal of the full notebook cells\n",
       "var notebookContainer = gd.closest('#notebook-container');\n",
       "if (notebookContainer) {{\n",
       "    x.observe(notebookContainer, {childList: true});\n",
       "}}\n",
       "\n",
       "// Listen for the clearing of the current output cell\n",
       "var outputEl = gd.closest('.output');\n",
       "if (outputEl) {{\n",
       "    x.observe(outputEl, {childList: true});\n",
       "}}\n",
       "\n",
       "                        })\n",
       "                };\n",
       "                });\n",
       "            </script>\n",
       "        </div>"
      ]
     },
     "metadata": {},
     "output_type": "display_data"
    }
   ],
   "source": [
    "universum = Universum(100)\n",
    "\n",
    "universum.visualize()"
   ]
  },
  {
   "cell_type": "markdown",
   "metadata": {},
   "source": [
    "Rather beautiful, if somewhat simple. Let's take a closer look at Terra and visualize the history of the 20 first generations."
   ]
  },
  {
   "cell_type": "code",
   "execution_count": 167,
   "metadata": {},
   "outputs": [
    {
     "data": {
      "application/vnd.plotly.v1+json": {
       "config": {
        "plotlyServerURL": "https://plot.ly"
       },
       "data": [
        {
         "hoverlabel": {
          "namelength": 0
         },
         "hovertemplate": "variable=capital<br>age=%{x}<br>value=%{y}",
         "legendgroup": "variable=capital",
         "line": {
          "color": "#636efa",
          "dash": "solid"
         },
         "mode": "lines",
         "name": "variable=capital",
         "showlegend": true,
         "type": "scatter",
         "x": [
          0,
          1,
          2,
          3,
          4,
          5,
          6,
          7,
          8,
          9,
          10,
          11,
          12,
          13,
          14,
          15,
          16,
          17,
          18,
          19
         ],
         "xaxis": "x",
         "y": [
          10,
          14.328,
          22.300312206561372,
          37.049061885942734,
          64.61004877658608,
          116.65163154151494,
          215.78416010101088,
          405.89765160365704,
          772.2967185513925,
          1480.9261625059291,
          2854.798716871447,
          5522.9226427423855,
          10710.52251072431,
          20804.629154746202,
          0,
          0,
          0,
          0,
          0,
          0
         ],
         "yaxis": "y"
        },
        {
         "hoverlabel": {
          "namelength": 0
         },
         "hovertemplate": "variable=commonium<br>age=%{x}<br>value=%{y}",
         "legendgroup": "variable=commonium",
         "line": {
          "color": "#EF553B",
          "dash": "solid"
         },
         "mode": "lines",
         "name": "variable=commonium",
         "showlegend": true,
         "type": "scatter",
         "x": [
          0,
          1,
          2,
          3,
          4,
          5,
          6,
          7,
          8,
          9,
          10,
          11,
          12,
          13,
          14,
          15,
          16,
          17,
          18,
          19
         ],
         "xaxis": "x",
         "y": [
          317145,
          317135,
          317116.3246384334,
          317081.0334283315,
          317013.72512422554,
          316884.4841964284,
          316635.1427452247,
          316152.51551018754,
          315216.24822897004,
          313397.191496195,
          309859.3541256279,
          302973.93953361217,
          289567.13976678974,
          263454.13198562193,
          212581.8922747207,
          212581.8922747207,
          212581.8922747207,
          212581.8922747207,
          212581.8922747207,
          212581.8922747207
         ],
         "yaxis": "y"
        },
        {
         "hoverlabel": {
          "namelength": 0
         },
         "hovertemplate": "variable=habitability<br>age=%{x}<br>value=%{y}",
         "legendgroup": "variable=habitability",
         "line": {
          "color": "#00cc96",
          "dash": "solid"
         },
         "mode": "lines",
         "name": "variable=habitability",
         "showlegend": true,
         "type": "scatter",
         "x": [
          0,
          1,
          2,
          3,
          4,
          5,
          6,
          7,
          8,
          9,
          10,
          11,
          12,
          13,
          14,
          15,
          16,
          17,
          18,
          19
         ],
         "xaxis": "x",
         "y": [
          100,
          100,
          100,
          100,
          100,
          100,
          100,
          100,
          100,
          100,
          100,
          100,
          100,
          100,
          100,
          100,
          100,
          100,
          100,
          100
         ],
         "yaxis": "y"
        },
        {
         "hoverlabel": {
          "namelength": 0
         },
         "hovertemplate": "variable=importantium<br>age=%{x}<br>value=%{y}",
         "legendgroup": "variable=importantium",
         "line": {
          "color": "#ab63fa",
          "dash": "solid"
         },
         "mode": "lines",
         "name": "variable=importantium",
         "showlegend": true,
         "type": "scatter",
         "x": [
          0,
          1,
          2,
          3,
          4,
          5,
          6,
          7,
          8,
          9,
          10,
          11,
          12,
          13,
          14,
          15,
          16,
          17,
          18,
          19
         ],
         "xaxis": "x",
         "y": [
          6510,
          6509,
          6507.132463843341,
          6503.6033428331475,
          6496.872512422553,
          6483.948419642838,
          6459.014274522471,
          6410.751551018758,
          6317.124822897011,
          6135.219149619503,
          5781.435412562797,
          5092.893953361225,
          3752.213976678984,
          1140.913198562203,
          0,
          0,
          0,
          0,
          0,
          0
         ],
         "yaxis": "y"
        },
        {
         "hoverlabel": {
          "namelength": 0
         },
         "hovertemplate": "variable=population<br>age=%{x}<br>value=%{y}",
         "legendgroup": "variable=population",
         "line": {
          "color": "#FFA15A",
          "dash": "solid"
         },
         "mode": "lines",
         "name": "variable=population",
         "showlegend": true,
         "type": "scatter",
         "x": [
          0,
          1,
          2,
          3,
          4,
          5,
          6,
          7,
          8,
          9,
          10,
          11,
          12,
          13,
          14,
          15,
          16,
          17,
          18,
          19
         ],
         "xaxis": "x",
         "y": [
          10,
          20.4,
          41.12618446319473,
          82.12948995388425,
          162.84211453395994,
          321.1902631935978,
          631.1645242758643,
          1237.070022337091,
          2420.2873388201406,
          4729.399687154986,
          9233.824793856902,
          18018.162973644805,
          35145.709210466695,
          68536.37837753726,
          0,
          0,
          0,
          0,
          0,
          0
         ],
         "yaxis": "y"
        },
        {
         "hoverlabel": {
          "namelength": 0
         },
         "hovertemplate": "variable=production<br>age=%{x}<br>value=%{y}",
         "legendgroup": "variable=production",
         "line": {
          "color": "#19d3f3",
          "dash": "solid"
         },
         "mode": "lines",
         "name": "variable=production",
         "showlegend": true,
         "type": "scatter",
         "x": [
          0,
          1,
          2,
          3,
          4,
          5,
          6,
          7,
          8,
          9,
          10,
          11,
          12,
          13,
          14,
          15,
          16,
          17,
          18,
          19
         ],
         "xaxis": "x",
         "y": [
          10,
          5.92,
          10.450124673957081,
          18.86531211115278,
          34.7398811991529,
          65.00287515843051,
          123.10854634849713,
          235.21323056971914,
          452.2098134534457,
          873.1767953440843,
          1691.0724117956784,
          3281.7819972867596,
          6377.657924729067,
          2405.732105660358,
          0,
          0,
          0,
          0,
          0,
          0
         ],
         "yaxis": "y"
        },
        {
         "hoverlabel": {
          "namelength": 0
         },
         "hovertemplate": "variable=spaceships<br>age=%{x}<br>value=%{y}",
         "legendgroup": "variable=spaceships",
         "line": {
          "color": "#FF6692",
          "dash": "solid"
         },
         "mode": "lines",
         "name": "variable=spaceships",
         "showlegend": true,
         "type": "scatter",
         "x": [
          0,
          1,
          2,
          3,
          4,
          5,
          6,
          7,
          8,
          9,
          10,
          11,
          12,
          13,
          14,
          15,
          16,
          17,
          18,
          19
         ],
         "xaxis": "x",
         "y": [
          0,
          0,
          0,
          0,
          0,
          0,
          0,
          0,
          0,
          0,
          0,
          0,
          0,
          1,
          1,
          1,
          1,
          1,
          1,
          1
         ],
         "yaxis": "y"
        }
       ],
       "layout": {
        "legend": {
         "tracegroupgap": 0
        },
        "margin": {
         "t": 60
        },
        "template": {
         "data": {
          "bar": [
           {
            "error_x": {
             "color": "#2a3f5f"
            },
            "error_y": {
             "color": "#2a3f5f"
            },
            "marker": {
             "line": {
              "color": "#E5ECF6",
              "width": 0.5
             }
            },
            "type": "bar"
           }
          ],
          "barpolar": [
           {
            "marker": {
             "line": {
              "color": "#E5ECF6",
              "width": 0.5
             }
            },
            "type": "barpolar"
           }
          ],
          "carpet": [
           {
            "aaxis": {
             "endlinecolor": "#2a3f5f",
             "gridcolor": "white",
             "linecolor": "white",
             "minorgridcolor": "white",
             "startlinecolor": "#2a3f5f"
            },
            "baxis": {
             "endlinecolor": "#2a3f5f",
             "gridcolor": "white",
             "linecolor": "white",
             "minorgridcolor": "white",
             "startlinecolor": "#2a3f5f"
            },
            "type": "carpet"
           }
          ],
          "choropleth": [
           {
            "colorbar": {
             "outlinewidth": 0,
             "ticks": ""
            },
            "type": "choropleth"
           }
          ],
          "contour": [
           {
            "colorbar": {
             "outlinewidth": 0,
             "ticks": ""
            },
            "colorscale": [
             [
              0,
              "#0d0887"
             ],
             [
              0.1111111111111111,
              "#46039f"
             ],
             [
              0.2222222222222222,
              "#7201a8"
             ],
             [
              0.3333333333333333,
              "#9c179e"
             ],
             [
              0.4444444444444444,
              "#bd3786"
             ],
             [
              0.5555555555555556,
              "#d8576b"
             ],
             [
              0.6666666666666666,
              "#ed7953"
             ],
             [
              0.7777777777777778,
              "#fb9f3a"
             ],
             [
              0.8888888888888888,
              "#fdca26"
             ],
             [
              1,
              "#f0f921"
             ]
            ],
            "type": "contour"
           }
          ],
          "contourcarpet": [
           {
            "colorbar": {
             "outlinewidth": 0,
             "ticks": ""
            },
            "type": "contourcarpet"
           }
          ],
          "heatmap": [
           {
            "colorbar": {
             "outlinewidth": 0,
             "ticks": ""
            },
            "colorscale": [
             [
              0,
              "#0d0887"
             ],
             [
              0.1111111111111111,
              "#46039f"
             ],
             [
              0.2222222222222222,
              "#7201a8"
             ],
             [
              0.3333333333333333,
              "#9c179e"
             ],
             [
              0.4444444444444444,
              "#bd3786"
             ],
             [
              0.5555555555555556,
              "#d8576b"
             ],
             [
              0.6666666666666666,
              "#ed7953"
             ],
             [
              0.7777777777777778,
              "#fb9f3a"
             ],
             [
              0.8888888888888888,
              "#fdca26"
             ],
             [
              1,
              "#f0f921"
             ]
            ],
            "type": "heatmap"
           }
          ],
          "heatmapgl": [
           {
            "colorbar": {
             "outlinewidth": 0,
             "ticks": ""
            },
            "colorscale": [
             [
              0,
              "#0d0887"
             ],
             [
              0.1111111111111111,
              "#46039f"
             ],
             [
              0.2222222222222222,
              "#7201a8"
             ],
             [
              0.3333333333333333,
              "#9c179e"
             ],
             [
              0.4444444444444444,
              "#bd3786"
             ],
             [
              0.5555555555555556,
              "#d8576b"
             ],
             [
              0.6666666666666666,
              "#ed7953"
             ],
             [
              0.7777777777777778,
              "#fb9f3a"
             ],
             [
              0.8888888888888888,
              "#fdca26"
             ],
             [
              1,
              "#f0f921"
             ]
            ],
            "type": "heatmapgl"
           }
          ],
          "histogram": [
           {
            "marker": {
             "colorbar": {
              "outlinewidth": 0,
              "ticks": ""
             }
            },
            "type": "histogram"
           }
          ],
          "histogram2d": [
           {
            "colorbar": {
             "outlinewidth": 0,
             "ticks": ""
            },
            "colorscale": [
             [
              0,
              "#0d0887"
             ],
             [
              0.1111111111111111,
              "#46039f"
             ],
             [
              0.2222222222222222,
              "#7201a8"
             ],
             [
              0.3333333333333333,
              "#9c179e"
             ],
             [
              0.4444444444444444,
              "#bd3786"
             ],
             [
              0.5555555555555556,
              "#d8576b"
             ],
             [
              0.6666666666666666,
              "#ed7953"
             ],
             [
              0.7777777777777778,
              "#fb9f3a"
             ],
             [
              0.8888888888888888,
              "#fdca26"
             ],
             [
              1,
              "#f0f921"
             ]
            ],
            "type": "histogram2d"
           }
          ],
          "histogram2dcontour": [
           {
            "colorbar": {
             "outlinewidth": 0,
             "ticks": ""
            },
            "colorscale": [
             [
              0,
              "#0d0887"
             ],
             [
              0.1111111111111111,
              "#46039f"
             ],
             [
              0.2222222222222222,
              "#7201a8"
             ],
             [
              0.3333333333333333,
              "#9c179e"
             ],
             [
              0.4444444444444444,
              "#bd3786"
             ],
             [
              0.5555555555555556,
              "#d8576b"
             ],
             [
              0.6666666666666666,
              "#ed7953"
             ],
             [
              0.7777777777777778,
              "#fb9f3a"
             ],
             [
              0.8888888888888888,
              "#fdca26"
             ],
             [
              1,
              "#f0f921"
             ]
            ],
            "type": "histogram2dcontour"
           }
          ],
          "mesh3d": [
           {
            "colorbar": {
             "outlinewidth": 0,
             "ticks": ""
            },
            "type": "mesh3d"
           }
          ],
          "parcoords": [
           {
            "line": {
             "colorbar": {
              "outlinewidth": 0,
              "ticks": ""
             }
            },
            "type": "parcoords"
           }
          ],
          "pie": [
           {
            "automargin": true,
            "type": "pie"
           }
          ],
          "scatter": [
           {
            "marker": {
             "colorbar": {
              "outlinewidth": 0,
              "ticks": ""
             }
            },
            "type": "scatter"
           }
          ],
          "scatter3d": [
           {
            "line": {
             "colorbar": {
              "outlinewidth": 0,
              "ticks": ""
             }
            },
            "marker": {
             "colorbar": {
              "outlinewidth": 0,
              "ticks": ""
             }
            },
            "type": "scatter3d"
           }
          ],
          "scattercarpet": [
           {
            "marker": {
             "colorbar": {
              "outlinewidth": 0,
              "ticks": ""
             }
            },
            "type": "scattercarpet"
           }
          ],
          "scattergeo": [
           {
            "marker": {
             "colorbar": {
              "outlinewidth": 0,
              "ticks": ""
             }
            },
            "type": "scattergeo"
           }
          ],
          "scattergl": [
           {
            "marker": {
             "colorbar": {
              "outlinewidth": 0,
              "ticks": ""
             }
            },
            "type": "scattergl"
           }
          ],
          "scattermapbox": [
           {
            "marker": {
             "colorbar": {
              "outlinewidth": 0,
              "ticks": ""
             }
            },
            "type": "scattermapbox"
           }
          ],
          "scatterpolar": [
           {
            "marker": {
             "colorbar": {
              "outlinewidth": 0,
              "ticks": ""
             }
            },
            "type": "scatterpolar"
           }
          ],
          "scatterpolargl": [
           {
            "marker": {
             "colorbar": {
              "outlinewidth": 0,
              "ticks": ""
             }
            },
            "type": "scatterpolargl"
           }
          ],
          "scatterternary": [
           {
            "marker": {
             "colorbar": {
              "outlinewidth": 0,
              "ticks": ""
             }
            },
            "type": "scatterternary"
           }
          ],
          "surface": [
           {
            "colorbar": {
             "outlinewidth": 0,
             "ticks": ""
            },
            "colorscale": [
             [
              0,
              "#0d0887"
             ],
             [
              0.1111111111111111,
              "#46039f"
             ],
             [
              0.2222222222222222,
              "#7201a8"
             ],
             [
              0.3333333333333333,
              "#9c179e"
             ],
             [
              0.4444444444444444,
              "#bd3786"
             ],
             [
              0.5555555555555556,
              "#d8576b"
             ],
             [
              0.6666666666666666,
              "#ed7953"
             ],
             [
              0.7777777777777778,
              "#fb9f3a"
             ],
             [
              0.8888888888888888,
              "#fdca26"
             ],
             [
              1,
              "#f0f921"
             ]
            ],
            "type": "surface"
           }
          ],
          "table": [
           {
            "cells": {
             "fill": {
              "color": "#EBF0F8"
             },
             "line": {
              "color": "white"
             }
            },
            "header": {
             "fill": {
              "color": "#C8D4E3"
             },
             "line": {
              "color": "white"
             }
            },
            "type": "table"
           }
          ]
         },
         "layout": {
          "annotationdefaults": {
           "arrowcolor": "#2a3f5f",
           "arrowhead": 0,
           "arrowwidth": 1
          },
          "coloraxis": {
           "colorbar": {
            "outlinewidth": 0,
            "ticks": ""
           }
          },
          "colorscale": {
           "diverging": [
            [
             0,
             "#8e0152"
            ],
            [
             0.1,
             "#c51b7d"
            ],
            [
             0.2,
             "#de77ae"
            ],
            [
             0.3,
             "#f1b6da"
            ],
            [
             0.4,
             "#fde0ef"
            ],
            [
             0.5,
             "#f7f7f7"
            ],
            [
             0.6,
             "#e6f5d0"
            ],
            [
             0.7,
             "#b8e186"
            ],
            [
             0.8,
             "#7fbc41"
            ],
            [
             0.9,
             "#4d9221"
            ],
            [
             1,
             "#276419"
            ]
           ],
           "sequential": [
            [
             0,
             "#0d0887"
            ],
            [
             0.1111111111111111,
             "#46039f"
            ],
            [
             0.2222222222222222,
             "#7201a8"
            ],
            [
             0.3333333333333333,
             "#9c179e"
            ],
            [
             0.4444444444444444,
             "#bd3786"
            ],
            [
             0.5555555555555556,
             "#d8576b"
            ],
            [
             0.6666666666666666,
             "#ed7953"
            ],
            [
             0.7777777777777778,
             "#fb9f3a"
            ],
            [
             0.8888888888888888,
             "#fdca26"
            ],
            [
             1,
             "#f0f921"
            ]
           ],
           "sequentialminus": [
            [
             0,
             "#0d0887"
            ],
            [
             0.1111111111111111,
             "#46039f"
            ],
            [
             0.2222222222222222,
             "#7201a8"
            ],
            [
             0.3333333333333333,
             "#9c179e"
            ],
            [
             0.4444444444444444,
             "#bd3786"
            ],
            [
             0.5555555555555556,
             "#d8576b"
            ],
            [
             0.6666666666666666,
             "#ed7953"
            ],
            [
             0.7777777777777778,
             "#fb9f3a"
            ],
            [
             0.8888888888888888,
             "#fdca26"
            ],
            [
             1,
             "#f0f921"
            ]
           ]
          },
          "colorway": [
           "#636efa",
           "#EF553B",
           "#00cc96",
           "#ab63fa",
           "#FFA15A",
           "#19d3f3",
           "#FF6692",
           "#B6E880",
           "#FF97FF",
           "#FECB52"
          ],
          "font": {
           "color": "#2a3f5f"
          },
          "geo": {
           "bgcolor": "white",
           "lakecolor": "white",
           "landcolor": "#E5ECF6",
           "showlakes": true,
           "showland": true,
           "subunitcolor": "white"
          },
          "hoverlabel": {
           "align": "left"
          },
          "hovermode": "closest",
          "mapbox": {
           "style": "light"
          },
          "paper_bgcolor": "white",
          "plot_bgcolor": "#E5ECF6",
          "polar": {
           "angularaxis": {
            "gridcolor": "white",
            "linecolor": "white",
            "ticks": ""
           },
           "bgcolor": "#E5ECF6",
           "radialaxis": {
            "gridcolor": "white",
            "linecolor": "white",
            "ticks": ""
           }
          },
          "scene": {
           "xaxis": {
            "backgroundcolor": "#E5ECF6",
            "gridcolor": "white",
            "gridwidth": 2,
            "linecolor": "white",
            "showbackground": true,
            "ticks": "",
            "zerolinecolor": "white"
           },
           "yaxis": {
            "backgroundcolor": "#E5ECF6",
            "gridcolor": "white",
            "gridwidth": 2,
            "linecolor": "white",
            "showbackground": true,
            "ticks": "",
            "zerolinecolor": "white"
           },
           "zaxis": {
            "backgroundcolor": "#E5ECF6",
            "gridcolor": "white",
            "gridwidth": 2,
            "linecolor": "white",
            "showbackground": true,
            "ticks": "",
            "zerolinecolor": "white"
           }
          },
          "shapedefaults": {
           "line": {
            "color": "#2a3f5f"
           }
          },
          "ternary": {
           "aaxis": {
            "gridcolor": "white",
            "linecolor": "white",
            "ticks": ""
           },
           "baxis": {
            "gridcolor": "white",
            "linecolor": "white",
            "ticks": ""
           },
           "bgcolor": "#E5ECF6",
           "caxis": {
            "gridcolor": "white",
            "linecolor": "white",
            "ticks": ""
           }
          },
          "title": {
           "x": 0.05
          },
          "xaxis": {
           "automargin": true,
           "gridcolor": "white",
           "linecolor": "white",
           "ticks": "",
           "title": {
            "standoff": 15
           },
           "zerolinecolor": "white",
           "zerolinewidth": 2
          },
          "yaxis": {
           "automargin": true,
           "gridcolor": "white",
           "linecolor": "white",
           "ticks": "",
           "title": {
            "standoff": 15
           },
           "zerolinecolor": "white",
           "zerolinewidth": 2
          }
         }
        },
        "xaxis": {
         "anchor": "y",
         "domain": [
          0,
          1
         ],
         "title": {
          "text": "age"
         }
        },
        "yaxis": {
         "anchor": "x",
         "domain": [
          0,
          1
         ],
         "title": {
          "text": "value"
         }
        }
       }
      },
      "text/html": [
       "<div>\n",
       "        \n",
       "        \n",
       "            <div id=\"9c77e1eb-f4e7-497b-a1c5-237ea14de338\" class=\"plotly-graph-div\" style=\"height:525px; width:100%;\"></div>\n",
       "            <script type=\"text/javascript\">\n",
       "                require([\"plotly\"], function(Plotly) {\n",
       "                    window.PLOTLYENV=window.PLOTLYENV || {};\n",
       "                    \n",
       "                if (document.getElementById(\"9c77e1eb-f4e7-497b-a1c5-237ea14de338\")) {\n",
       "                    Plotly.newPlot(\n",
       "                        '9c77e1eb-f4e7-497b-a1c5-237ea14de338',\n",
       "                        [{\"hoverlabel\": {\"namelength\": 0}, \"hovertemplate\": \"variable=capital<br>age=%{x}<br>value=%{y}\", \"legendgroup\": \"variable=capital\", \"line\": {\"color\": \"#636efa\", \"dash\": \"solid\"}, \"mode\": \"lines\", \"name\": \"variable=capital\", \"showlegend\": true, \"type\": \"scatter\", \"x\": [0, 1, 2, 3, 4, 5, 6, 7, 8, 9, 10, 11, 12, 13, 14, 15, 16, 17, 18, 19], \"xaxis\": \"x\", \"y\": [10.0, 14.328, 22.300312206561372, 37.049061885942734, 64.61004877658608, 116.65163154151494, 215.78416010101088, 405.89765160365704, 772.2967185513925, 1480.9261625059291, 2854.798716871447, 5522.9226427423855, 10710.52251072431, 20804.629154746202, 0.0, 0.0, 0.0, 0.0, 0.0, 0.0], \"yaxis\": \"y\"}, {\"hoverlabel\": {\"namelength\": 0}, \"hovertemplate\": \"variable=commonium<br>age=%{x}<br>value=%{y}\", \"legendgroup\": \"variable=commonium\", \"line\": {\"color\": \"#EF553B\", \"dash\": \"solid\"}, \"mode\": \"lines\", \"name\": \"variable=commonium\", \"showlegend\": true, \"type\": \"scatter\", \"x\": [0, 1, 2, 3, 4, 5, 6, 7, 8, 9, 10, 11, 12, 13, 14, 15, 16, 17, 18, 19], \"xaxis\": \"x\", \"y\": [317145.0, 317135.0, 317116.3246384334, 317081.0334283315, 317013.72512422554, 316884.4841964284, 316635.1427452247, 316152.51551018754, 315216.24822897004, 313397.191496195, 309859.3541256279, 302973.93953361217, 289567.13976678974, 263454.13198562193, 212581.8922747207, 212581.8922747207, 212581.8922747207, 212581.8922747207, 212581.8922747207, 212581.8922747207], \"yaxis\": \"y\"}, {\"hoverlabel\": {\"namelength\": 0}, \"hovertemplate\": \"variable=habitability<br>age=%{x}<br>value=%{y}\", \"legendgroup\": \"variable=habitability\", \"line\": {\"color\": \"#00cc96\", \"dash\": \"solid\"}, \"mode\": \"lines\", \"name\": \"variable=habitability\", \"showlegend\": true, \"type\": \"scatter\", \"x\": [0, 1, 2, 3, 4, 5, 6, 7, 8, 9, 10, 11, 12, 13, 14, 15, 16, 17, 18, 19], \"xaxis\": \"x\", \"y\": [100.0, 100.0, 100.0, 100.0, 100.0, 100.0, 100.0, 100.0, 100.0, 100.0, 100.0, 100.0, 100.0, 100.0, 100.0, 100.0, 100.0, 100.0, 100.0, 100.0], \"yaxis\": \"y\"}, {\"hoverlabel\": {\"namelength\": 0}, \"hovertemplate\": \"variable=importantium<br>age=%{x}<br>value=%{y}\", \"legendgroup\": \"variable=importantium\", \"line\": {\"color\": \"#ab63fa\", \"dash\": \"solid\"}, \"mode\": \"lines\", \"name\": \"variable=importantium\", \"showlegend\": true, \"type\": \"scatter\", \"x\": [0, 1, 2, 3, 4, 5, 6, 7, 8, 9, 10, 11, 12, 13, 14, 15, 16, 17, 18, 19], \"xaxis\": \"x\", \"y\": [6510.0, 6509.0, 6507.132463843341, 6503.6033428331475, 6496.872512422553, 6483.948419642838, 6459.014274522471, 6410.751551018758, 6317.124822897011, 6135.219149619503, 5781.435412562797, 5092.893953361225, 3752.213976678984, 1140.913198562203, 0.0, 0.0, 0.0, 0.0, 0.0, 0.0], \"yaxis\": \"y\"}, {\"hoverlabel\": {\"namelength\": 0}, \"hovertemplate\": \"variable=population<br>age=%{x}<br>value=%{y}\", \"legendgroup\": \"variable=population\", \"line\": {\"color\": \"#FFA15A\", \"dash\": \"solid\"}, \"mode\": \"lines\", \"name\": \"variable=population\", \"showlegend\": true, \"type\": \"scatter\", \"x\": [0, 1, 2, 3, 4, 5, 6, 7, 8, 9, 10, 11, 12, 13, 14, 15, 16, 17, 18, 19], \"xaxis\": \"x\", \"y\": [10.0, 20.4, 41.12618446319473, 82.12948995388425, 162.84211453395994, 321.1902631935978, 631.1645242758643, 1237.070022337091, 2420.2873388201406, 4729.399687154986, 9233.824793856902, 18018.162973644805, 35145.709210466695, 68536.37837753726, 0.0, 0.0, 0.0, 0.0, 0.0, 0.0], \"yaxis\": \"y\"}, {\"hoverlabel\": {\"namelength\": 0}, \"hovertemplate\": \"variable=production<br>age=%{x}<br>value=%{y}\", \"legendgroup\": \"variable=production\", \"line\": {\"color\": \"#19d3f3\", \"dash\": \"solid\"}, \"mode\": \"lines\", \"name\": \"variable=production\", \"showlegend\": true, \"type\": \"scatter\", \"x\": [0, 1, 2, 3, 4, 5, 6, 7, 8, 9, 10, 11, 12, 13, 14, 15, 16, 17, 18, 19], \"xaxis\": \"x\", \"y\": [10.0, 5.92, 10.450124673957081, 18.86531211115278, 34.7398811991529, 65.00287515843051, 123.10854634849713, 235.21323056971914, 452.2098134534457, 873.1767953440843, 1691.0724117956784, 3281.7819972867596, 6377.657924729067, 2405.732105660358, 0.0, 0.0, 0.0, 0.0, 0.0, 0.0], \"yaxis\": \"y\"}, {\"hoverlabel\": {\"namelength\": 0}, \"hovertemplate\": \"variable=spaceships<br>age=%{x}<br>value=%{y}\", \"legendgroup\": \"variable=spaceships\", \"line\": {\"color\": \"#FF6692\", \"dash\": \"solid\"}, \"mode\": \"lines\", \"name\": \"variable=spaceships\", \"showlegend\": true, \"type\": \"scatter\", \"x\": [0, 1, 2, 3, 4, 5, 6, 7, 8, 9, 10, 11, 12, 13, 14, 15, 16, 17, 18, 19], \"xaxis\": \"x\", \"y\": [0.0, 0.0, 0.0, 0.0, 0.0, 0.0, 0.0, 0.0, 0.0, 0.0, 0.0, 0.0, 0.0, 1.0, 1.0, 1.0, 1.0, 1.0, 1.0, 1.0], \"yaxis\": \"y\"}],\n",
       "                        {\"legend\": {\"tracegroupgap\": 0}, \"margin\": {\"t\": 60}, \"template\": {\"data\": {\"bar\": [{\"error_x\": {\"color\": \"#2a3f5f\"}, \"error_y\": {\"color\": \"#2a3f5f\"}, \"marker\": {\"line\": {\"color\": \"#E5ECF6\", \"width\": 0.5}}, \"type\": \"bar\"}], \"barpolar\": [{\"marker\": {\"line\": {\"color\": \"#E5ECF6\", \"width\": 0.5}}, \"type\": \"barpolar\"}], \"carpet\": [{\"aaxis\": {\"endlinecolor\": \"#2a3f5f\", \"gridcolor\": \"white\", \"linecolor\": \"white\", \"minorgridcolor\": \"white\", \"startlinecolor\": \"#2a3f5f\"}, \"baxis\": {\"endlinecolor\": \"#2a3f5f\", \"gridcolor\": \"white\", \"linecolor\": \"white\", \"minorgridcolor\": \"white\", \"startlinecolor\": \"#2a3f5f\"}, \"type\": \"carpet\"}], \"choropleth\": [{\"colorbar\": {\"outlinewidth\": 0, \"ticks\": \"\"}, \"type\": \"choropleth\"}], \"contour\": [{\"colorbar\": {\"outlinewidth\": 0, \"ticks\": \"\"}, \"colorscale\": [[0.0, \"#0d0887\"], [0.1111111111111111, \"#46039f\"], [0.2222222222222222, \"#7201a8\"], [0.3333333333333333, \"#9c179e\"], [0.4444444444444444, \"#bd3786\"], [0.5555555555555556, \"#d8576b\"], [0.6666666666666666, \"#ed7953\"], [0.7777777777777778, \"#fb9f3a\"], [0.8888888888888888, \"#fdca26\"], [1.0, \"#f0f921\"]], \"type\": \"contour\"}], \"contourcarpet\": [{\"colorbar\": {\"outlinewidth\": 0, \"ticks\": \"\"}, \"type\": \"contourcarpet\"}], \"heatmap\": [{\"colorbar\": {\"outlinewidth\": 0, \"ticks\": \"\"}, \"colorscale\": [[0.0, \"#0d0887\"], [0.1111111111111111, \"#46039f\"], [0.2222222222222222, \"#7201a8\"], [0.3333333333333333, \"#9c179e\"], [0.4444444444444444, \"#bd3786\"], [0.5555555555555556, \"#d8576b\"], [0.6666666666666666, \"#ed7953\"], [0.7777777777777778, \"#fb9f3a\"], [0.8888888888888888, \"#fdca26\"], [1.0, \"#f0f921\"]], \"type\": \"heatmap\"}], \"heatmapgl\": [{\"colorbar\": {\"outlinewidth\": 0, \"ticks\": \"\"}, \"colorscale\": [[0.0, \"#0d0887\"], [0.1111111111111111, \"#46039f\"], [0.2222222222222222, \"#7201a8\"], [0.3333333333333333, \"#9c179e\"], [0.4444444444444444, \"#bd3786\"], [0.5555555555555556, \"#d8576b\"], [0.6666666666666666, \"#ed7953\"], [0.7777777777777778, \"#fb9f3a\"], [0.8888888888888888, \"#fdca26\"], [1.0, \"#f0f921\"]], \"type\": \"heatmapgl\"}], \"histogram\": [{\"marker\": {\"colorbar\": {\"outlinewidth\": 0, \"ticks\": \"\"}}, \"type\": \"histogram\"}], \"histogram2d\": [{\"colorbar\": {\"outlinewidth\": 0, \"ticks\": \"\"}, \"colorscale\": [[0.0, \"#0d0887\"], [0.1111111111111111, \"#46039f\"], [0.2222222222222222, \"#7201a8\"], [0.3333333333333333, \"#9c179e\"], [0.4444444444444444, \"#bd3786\"], [0.5555555555555556, \"#d8576b\"], [0.6666666666666666, \"#ed7953\"], [0.7777777777777778, \"#fb9f3a\"], [0.8888888888888888, \"#fdca26\"], [1.0, \"#f0f921\"]], \"type\": \"histogram2d\"}], \"histogram2dcontour\": [{\"colorbar\": {\"outlinewidth\": 0, \"ticks\": \"\"}, \"colorscale\": [[0.0, \"#0d0887\"], [0.1111111111111111, \"#46039f\"], [0.2222222222222222, \"#7201a8\"], [0.3333333333333333, \"#9c179e\"], [0.4444444444444444, \"#bd3786\"], [0.5555555555555556, \"#d8576b\"], [0.6666666666666666, \"#ed7953\"], [0.7777777777777778, \"#fb9f3a\"], [0.8888888888888888, \"#fdca26\"], [1.0, \"#f0f921\"]], \"type\": \"histogram2dcontour\"}], \"mesh3d\": [{\"colorbar\": {\"outlinewidth\": 0, \"ticks\": \"\"}, \"type\": \"mesh3d\"}], \"parcoords\": [{\"line\": {\"colorbar\": {\"outlinewidth\": 0, \"ticks\": \"\"}}, \"type\": \"parcoords\"}], \"pie\": [{\"automargin\": true, \"type\": \"pie\"}], \"scatter\": [{\"marker\": {\"colorbar\": {\"outlinewidth\": 0, \"ticks\": \"\"}}, \"type\": \"scatter\"}], \"scatter3d\": [{\"line\": {\"colorbar\": {\"outlinewidth\": 0, \"ticks\": \"\"}}, \"marker\": {\"colorbar\": {\"outlinewidth\": 0, \"ticks\": \"\"}}, \"type\": \"scatter3d\"}], \"scattercarpet\": [{\"marker\": {\"colorbar\": {\"outlinewidth\": 0, \"ticks\": \"\"}}, \"type\": \"scattercarpet\"}], \"scattergeo\": [{\"marker\": {\"colorbar\": {\"outlinewidth\": 0, \"ticks\": \"\"}}, \"type\": \"scattergeo\"}], \"scattergl\": [{\"marker\": {\"colorbar\": {\"outlinewidth\": 0, \"ticks\": \"\"}}, \"type\": \"scattergl\"}], \"scattermapbox\": [{\"marker\": {\"colorbar\": {\"outlinewidth\": 0, \"ticks\": \"\"}}, \"type\": \"scattermapbox\"}], \"scatterpolar\": [{\"marker\": {\"colorbar\": {\"outlinewidth\": 0, \"ticks\": \"\"}}, \"type\": \"scatterpolar\"}], \"scatterpolargl\": [{\"marker\": {\"colorbar\": {\"outlinewidth\": 0, \"ticks\": \"\"}}, \"type\": \"scatterpolargl\"}], \"scatterternary\": [{\"marker\": {\"colorbar\": {\"outlinewidth\": 0, \"ticks\": \"\"}}, \"type\": \"scatterternary\"}], \"surface\": [{\"colorbar\": {\"outlinewidth\": 0, \"ticks\": \"\"}, \"colorscale\": [[0.0, \"#0d0887\"], [0.1111111111111111, \"#46039f\"], [0.2222222222222222, \"#7201a8\"], [0.3333333333333333, \"#9c179e\"], [0.4444444444444444, \"#bd3786\"], [0.5555555555555556, \"#d8576b\"], [0.6666666666666666, \"#ed7953\"], [0.7777777777777778, \"#fb9f3a\"], [0.8888888888888888, \"#fdca26\"], [1.0, \"#f0f921\"]], \"type\": \"surface\"}], \"table\": [{\"cells\": {\"fill\": {\"color\": \"#EBF0F8\"}, \"line\": {\"color\": \"white\"}}, \"header\": {\"fill\": {\"color\": \"#C8D4E3\"}, \"line\": {\"color\": \"white\"}}, \"type\": \"table\"}]}, \"layout\": {\"annotationdefaults\": {\"arrowcolor\": \"#2a3f5f\", \"arrowhead\": 0, \"arrowwidth\": 1}, \"coloraxis\": {\"colorbar\": {\"outlinewidth\": 0, \"ticks\": \"\"}}, \"colorscale\": {\"diverging\": [[0, \"#8e0152\"], [0.1, \"#c51b7d\"], [0.2, \"#de77ae\"], [0.3, \"#f1b6da\"], [0.4, \"#fde0ef\"], [0.5, \"#f7f7f7\"], [0.6, \"#e6f5d0\"], [0.7, \"#b8e186\"], [0.8, \"#7fbc41\"], [0.9, \"#4d9221\"], [1, \"#276419\"]], \"sequential\": [[0.0, \"#0d0887\"], [0.1111111111111111, \"#46039f\"], [0.2222222222222222, \"#7201a8\"], [0.3333333333333333, \"#9c179e\"], [0.4444444444444444, \"#bd3786\"], [0.5555555555555556, \"#d8576b\"], [0.6666666666666666, \"#ed7953\"], [0.7777777777777778, \"#fb9f3a\"], [0.8888888888888888, \"#fdca26\"], [1.0, \"#f0f921\"]], \"sequentialminus\": [[0.0, \"#0d0887\"], [0.1111111111111111, \"#46039f\"], [0.2222222222222222, \"#7201a8\"], [0.3333333333333333, \"#9c179e\"], [0.4444444444444444, \"#bd3786\"], [0.5555555555555556, \"#d8576b\"], [0.6666666666666666, \"#ed7953\"], [0.7777777777777778, \"#fb9f3a\"], [0.8888888888888888, \"#fdca26\"], [1.0, \"#f0f921\"]]}, \"colorway\": [\"#636efa\", \"#EF553B\", \"#00cc96\", \"#ab63fa\", \"#FFA15A\", \"#19d3f3\", \"#FF6692\", \"#B6E880\", \"#FF97FF\", \"#FECB52\"], \"font\": {\"color\": \"#2a3f5f\"}, \"geo\": {\"bgcolor\": \"white\", \"lakecolor\": \"white\", \"landcolor\": \"#E5ECF6\", \"showlakes\": true, \"showland\": true, \"subunitcolor\": \"white\"}, \"hoverlabel\": {\"align\": \"left\"}, \"hovermode\": \"closest\", \"mapbox\": {\"style\": \"light\"}, \"paper_bgcolor\": \"white\", \"plot_bgcolor\": \"#E5ECF6\", \"polar\": {\"angularaxis\": {\"gridcolor\": \"white\", \"linecolor\": \"white\", \"ticks\": \"\"}, \"bgcolor\": \"#E5ECF6\", \"radialaxis\": {\"gridcolor\": \"white\", \"linecolor\": \"white\", \"ticks\": \"\"}}, \"scene\": {\"xaxis\": {\"backgroundcolor\": \"#E5ECF6\", \"gridcolor\": \"white\", \"gridwidth\": 2, \"linecolor\": \"white\", \"showbackground\": true, \"ticks\": \"\", \"zerolinecolor\": \"white\"}, \"yaxis\": {\"backgroundcolor\": \"#E5ECF6\", \"gridcolor\": \"white\", \"gridwidth\": 2, \"linecolor\": \"white\", \"showbackground\": true, \"ticks\": \"\", \"zerolinecolor\": \"white\"}, \"zaxis\": {\"backgroundcolor\": \"#E5ECF6\", \"gridcolor\": \"white\", \"gridwidth\": 2, \"linecolor\": \"white\", \"showbackground\": true, \"ticks\": \"\", \"zerolinecolor\": \"white\"}}, \"shapedefaults\": {\"line\": {\"color\": \"#2a3f5f\"}}, \"ternary\": {\"aaxis\": {\"gridcolor\": \"white\", \"linecolor\": \"white\", \"ticks\": \"\"}, \"baxis\": {\"gridcolor\": \"white\", \"linecolor\": \"white\", \"ticks\": \"\"}, \"bgcolor\": \"#E5ECF6\", \"caxis\": {\"gridcolor\": \"white\", \"linecolor\": \"white\", \"ticks\": \"\"}}, \"title\": {\"x\": 0.05}, \"xaxis\": {\"automargin\": true, \"gridcolor\": \"white\", \"linecolor\": \"white\", \"ticks\": \"\", \"title\": {\"standoff\": 15}, \"zerolinecolor\": \"white\", \"zerolinewidth\": 2}, \"yaxis\": {\"automargin\": true, \"gridcolor\": \"white\", \"linecolor\": \"white\", \"ticks\": \"\", \"title\": {\"standoff\": 15}, \"zerolinecolor\": \"white\", \"zerolinewidth\": 2}}}, \"xaxis\": {\"anchor\": \"y\", \"domain\": [0.0, 1.0], \"title\": {\"text\": \"age\"}}, \"yaxis\": {\"anchor\": \"x\", \"domain\": [0.0, 1.0], \"title\": {\"text\": \"value\"}}},\n",
       "                        {\"responsive\": true}\n",
       "                    ).then(function(){\n",
       "                            \n",
       "var gd = document.getElementById('9c77e1eb-f4e7-497b-a1c5-237ea14de338');\n",
       "var x = new MutationObserver(function (mutations, observer) {{\n",
       "        var display = window.getComputedStyle(gd).display;\n",
       "        if (!display || display === 'none') {{\n",
       "            console.log([gd, 'removed!']);\n",
       "            Plotly.purge(gd);\n",
       "            observer.disconnect();\n",
       "        }}\n",
       "}});\n",
       "\n",
       "// Listen for the removal of the full notebook cells\n",
       "var notebookContainer = gd.closest('#notebook-container');\n",
       "if (notebookContainer) {{\n",
       "    x.observe(notebookContainer, {childList: true});\n",
       "}}\n",
       "\n",
       "// Listen for the clearing of the current output cell\n",
       "var outputEl = gd.closest('.output');\n",
       "if (outputEl) {{\n",
       "    x.observe(outputEl, {childList: true});\n",
       "}}\n",
       "\n",
       "                        })\n",
       "                };\n",
       "                });\n",
       "            </script>\n",
       "        </div>"
      ]
     },
     "metadata": {},
     "output_type": "display_data"
    }
   ],
   "source": [
    "terra = universum.get_planet_by_name(\"Terra\")\n",
    "\n",
    "n_to_run = 20\n",
    "stats_all = []\n",
    "\n",
    "for i in range(n_to_run):\n",
    "    stats_all.append(terra.get_status())\n",
    "    terra.run_step()\n",
    "    \n",
    "stats = pd.DataFrame(stats_all)\n",
    "\n",
    "fig = px.line(stats.melt(id_vars = 'age'), x = 'age', y = 'value', color = 'variable')\n",
    "fig.show()"
   ]
  },
  {
   "cell_type": "markdown",
   "metadata": {},
   "source": [
    "Oh boy. It seems that humanity is set to doom itself with overconsumption. The consumption and population skyrocket until all the importantium is used up. Then it's ack to the stone age: humanity dies out over the course of one generation. Happily we seem to have a spaceship saved up!"
   ]
  },
  {
   "cell_type": "code",
   "execution_count": 168,
   "metadata": {},
   "outputs": [
    {
     "data": {
      "text/html": [
       "<div>\n",
       "<style scoped>\n",
       "    .dataframe tbody tr th:only-of-type {\n",
       "        vertical-align: middle;\n",
       "    }\n",
       "\n",
       "    .dataframe tbody tr th {\n",
       "        vertical-align: top;\n",
       "    }\n",
       "\n",
       "    .dataframe thead th {\n",
       "        text-align: right;\n",
       "    }\n",
       "</style>\n",
       "<table border=\"1\" class=\"dataframe\">\n",
       "  <thead>\n",
       "    <tr style=\"text-align: right;\">\n",
       "      <th></th>\n",
       "      <th>age</th>\n",
       "      <th>capital</th>\n",
       "      <th>commonium</th>\n",
       "      <th>habitability</th>\n",
       "      <th>importantium</th>\n",
       "      <th>population</th>\n",
       "      <th>production</th>\n",
       "      <th>spaceships</th>\n",
       "    </tr>\n",
       "  </thead>\n",
       "  <tbody>\n",
       "    <tr>\n",
       "      <th>0</th>\n",
       "      <td>0</td>\n",
       "      <td>10.000000</td>\n",
       "      <td>317145.000000</td>\n",
       "      <td>100</td>\n",
       "      <td>6510.000000</td>\n",
       "      <td>10.000000</td>\n",
       "      <td>10.000000</td>\n",
       "      <td>0</td>\n",
       "    </tr>\n",
       "    <tr>\n",
       "      <th>1</th>\n",
       "      <td>1</td>\n",
       "      <td>14.328000</td>\n",
       "      <td>317135.000000</td>\n",
       "      <td>100</td>\n",
       "      <td>6509.000000</td>\n",
       "      <td>20.400000</td>\n",
       "      <td>5.920000</td>\n",
       "      <td>0</td>\n",
       "    </tr>\n",
       "    <tr>\n",
       "      <th>2</th>\n",
       "      <td>2</td>\n",
       "      <td>22.300312</td>\n",
       "      <td>317116.324638</td>\n",
       "      <td>100</td>\n",
       "      <td>6507.132464</td>\n",
       "      <td>41.126184</td>\n",
       "      <td>10.450125</td>\n",
       "      <td>0</td>\n",
       "    </tr>\n",
       "    <tr>\n",
       "      <th>3</th>\n",
       "      <td>3</td>\n",
       "      <td>37.049062</td>\n",
       "      <td>317081.033428</td>\n",
       "      <td>100</td>\n",
       "      <td>6503.603343</td>\n",
       "      <td>82.129490</td>\n",
       "      <td>18.865312</td>\n",
       "      <td>0</td>\n",
       "    </tr>\n",
       "    <tr>\n",
       "      <th>4</th>\n",
       "      <td>4</td>\n",
       "      <td>64.610049</td>\n",
       "      <td>317013.725124</td>\n",
       "      <td>100</td>\n",
       "      <td>6496.872512</td>\n",
       "      <td>162.842115</td>\n",
       "      <td>34.739881</td>\n",
       "      <td>0</td>\n",
       "    </tr>\n",
       "    <tr>\n",
       "      <th>5</th>\n",
       "      <td>5</td>\n",
       "      <td>116.651632</td>\n",
       "      <td>316884.484196</td>\n",
       "      <td>100</td>\n",
       "      <td>6483.948420</td>\n",
       "      <td>321.190263</td>\n",
       "      <td>65.002875</td>\n",
       "      <td>0</td>\n",
       "    </tr>\n",
       "    <tr>\n",
       "      <th>6</th>\n",
       "      <td>6</td>\n",
       "      <td>215.784160</td>\n",
       "      <td>316635.142745</td>\n",
       "      <td>100</td>\n",
       "      <td>6459.014275</td>\n",
       "      <td>631.164524</td>\n",
       "      <td>123.108546</td>\n",
       "      <td>0</td>\n",
       "    </tr>\n",
       "    <tr>\n",
       "      <th>7</th>\n",
       "      <td>7</td>\n",
       "      <td>405.897652</td>\n",
       "      <td>316152.515510</td>\n",
       "      <td>100</td>\n",
       "      <td>6410.751551</td>\n",
       "      <td>1237.070022</td>\n",
       "      <td>235.213231</td>\n",
       "      <td>0</td>\n",
       "    </tr>\n",
       "    <tr>\n",
       "      <th>8</th>\n",
       "      <td>8</td>\n",
       "      <td>772.296719</td>\n",
       "      <td>315216.248229</td>\n",
       "      <td>100</td>\n",
       "      <td>6317.124823</td>\n",
       "      <td>2420.287339</td>\n",
       "      <td>452.209813</td>\n",
       "      <td>0</td>\n",
       "    </tr>\n",
       "    <tr>\n",
       "      <th>9</th>\n",
       "      <td>9</td>\n",
       "      <td>1480.926163</td>\n",
       "      <td>313397.191496</td>\n",
       "      <td>100</td>\n",
       "      <td>6135.219150</td>\n",
       "      <td>4729.399687</td>\n",
       "      <td>873.176795</td>\n",
       "      <td>0</td>\n",
       "    </tr>\n",
       "    <tr>\n",
       "      <th>10</th>\n",
       "      <td>10</td>\n",
       "      <td>2854.798717</td>\n",
       "      <td>309859.354126</td>\n",
       "      <td>100</td>\n",
       "      <td>5781.435413</td>\n",
       "      <td>9233.824794</td>\n",
       "      <td>1691.072412</td>\n",
       "      <td>0</td>\n",
       "    </tr>\n",
       "    <tr>\n",
       "      <th>11</th>\n",
       "      <td>11</td>\n",
       "      <td>5522.922643</td>\n",
       "      <td>302973.939534</td>\n",
       "      <td>100</td>\n",
       "      <td>5092.893953</td>\n",
       "      <td>18018.162974</td>\n",
       "      <td>3281.781997</td>\n",
       "      <td>0</td>\n",
       "    </tr>\n",
       "    <tr>\n",
       "      <th>12</th>\n",
       "      <td>12</td>\n",
       "      <td>10710.522511</td>\n",
       "      <td>289567.139767</td>\n",
       "      <td>100</td>\n",
       "      <td>3752.213977</td>\n",
       "      <td>35145.709210</td>\n",
       "      <td>6377.657925</td>\n",
       "      <td>0</td>\n",
       "    </tr>\n",
       "    <tr>\n",
       "      <th>13</th>\n",
       "      <td>13</td>\n",
       "      <td>20804.629155</td>\n",
       "      <td>263454.131986</td>\n",
       "      <td>100</td>\n",
       "      <td>1140.913199</td>\n",
       "      <td>68536.378378</td>\n",
       "      <td>2405.732106</td>\n",
       "      <td>1</td>\n",
       "    </tr>\n",
       "    <tr>\n",
       "      <th>14</th>\n",
       "      <td>14</td>\n",
       "      <td>0.000000</td>\n",
       "      <td>212581.892275</td>\n",
       "      <td>100</td>\n",
       "      <td>0.000000</td>\n",
       "      <td>0.000000</td>\n",
       "      <td>0.000000</td>\n",
       "      <td>1</td>\n",
       "    </tr>\n",
       "    <tr>\n",
       "      <th>15</th>\n",
       "      <td>15</td>\n",
       "      <td>0.000000</td>\n",
       "      <td>212581.892275</td>\n",
       "      <td>100</td>\n",
       "      <td>0.000000</td>\n",
       "      <td>0.000000</td>\n",
       "      <td>0.000000</td>\n",
       "      <td>1</td>\n",
       "    </tr>\n",
       "    <tr>\n",
       "      <th>16</th>\n",
       "      <td>16</td>\n",
       "      <td>0.000000</td>\n",
       "      <td>212581.892275</td>\n",
       "      <td>100</td>\n",
       "      <td>0.000000</td>\n",
       "      <td>0.000000</td>\n",
       "      <td>0.000000</td>\n",
       "      <td>1</td>\n",
       "    </tr>\n",
       "    <tr>\n",
       "      <th>17</th>\n",
       "      <td>17</td>\n",
       "      <td>0.000000</td>\n",
       "      <td>212581.892275</td>\n",
       "      <td>100</td>\n",
       "      <td>0.000000</td>\n",
       "      <td>0.000000</td>\n",
       "      <td>0.000000</td>\n",
       "      <td>1</td>\n",
       "    </tr>\n",
       "    <tr>\n",
       "      <th>18</th>\n",
       "      <td>18</td>\n",
       "      <td>0.000000</td>\n",
       "      <td>212581.892275</td>\n",
       "      <td>100</td>\n",
       "      <td>0.000000</td>\n",
       "      <td>0.000000</td>\n",
       "      <td>0.000000</td>\n",
       "      <td>1</td>\n",
       "    </tr>\n",
       "    <tr>\n",
       "      <th>19</th>\n",
       "      <td>19</td>\n",
       "      <td>0.000000</td>\n",
       "      <td>212581.892275</td>\n",
       "      <td>100</td>\n",
       "      <td>0.000000</td>\n",
       "      <td>0.000000</td>\n",
       "      <td>0.000000</td>\n",
       "      <td>1</td>\n",
       "    </tr>\n",
       "  </tbody>\n",
       "</table>\n",
       "</div>"
      ],
      "text/plain": [
       "    age       capital      commonium  habitability  importantium  \\\n",
       "0     0     10.000000  317145.000000           100   6510.000000   \n",
       "1     1     14.328000  317135.000000           100   6509.000000   \n",
       "2     2     22.300312  317116.324638           100   6507.132464   \n",
       "3     3     37.049062  317081.033428           100   6503.603343   \n",
       "4     4     64.610049  317013.725124           100   6496.872512   \n",
       "5     5    116.651632  316884.484196           100   6483.948420   \n",
       "6     6    215.784160  316635.142745           100   6459.014275   \n",
       "7     7    405.897652  316152.515510           100   6410.751551   \n",
       "8     8    772.296719  315216.248229           100   6317.124823   \n",
       "9     9   1480.926163  313397.191496           100   6135.219150   \n",
       "10   10   2854.798717  309859.354126           100   5781.435413   \n",
       "11   11   5522.922643  302973.939534           100   5092.893953   \n",
       "12   12  10710.522511  289567.139767           100   3752.213977   \n",
       "13   13  20804.629155  263454.131986           100   1140.913199   \n",
       "14   14      0.000000  212581.892275           100      0.000000   \n",
       "15   15      0.000000  212581.892275           100      0.000000   \n",
       "16   16      0.000000  212581.892275           100      0.000000   \n",
       "17   17      0.000000  212581.892275           100      0.000000   \n",
       "18   18      0.000000  212581.892275           100      0.000000   \n",
       "19   19      0.000000  212581.892275           100      0.000000   \n",
       "\n",
       "      population   production  spaceships  \n",
       "0      10.000000    10.000000           0  \n",
       "1      20.400000     5.920000           0  \n",
       "2      41.126184    10.450125           0  \n",
       "3      82.129490    18.865312           0  \n",
       "4     162.842115    34.739881           0  \n",
       "5     321.190263    65.002875           0  \n",
       "6     631.164524   123.108546           0  \n",
       "7    1237.070022   235.213231           0  \n",
       "8    2420.287339   452.209813           0  \n",
       "9    4729.399687   873.176795           0  \n",
       "10   9233.824794  1691.072412           0  \n",
       "11  18018.162974  3281.781997           0  \n",
       "12  35145.709210  6377.657925           0  \n",
       "13  68536.378378  2405.732106           1  \n",
       "14      0.000000     0.000000           1  \n",
       "15      0.000000     0.000000           1  \n",
       "16      0.000000     0.000000           1  \n",
       "17      0.000000     0.000000           1  \n",
       "18      0.000000     0.000000           1  \n",
       "19      0.000000     0.000000           1  "
      ]
     },
     "execution_count": 168,
     "metadata": {},
     "output_type": "execute_result"
    }
   ],
   "source": [
    "stats"
   ]
  },
  {
   "cell_type": "markdown",
   "metadata": {},
   "source": [
    "Curiously our humanity only manages to build one. The humanity dies out the second we pop out the first spaceship. What if these people manage to send out a single rocket to save humanity?"
   ]
  },
  {
   "cell_type": "code",
   "execution_count": null,
   "metadata": {},
   "outputs": [],
   "source": [
    "# TODO: tune the model to handle colonisation, and see how the universum is colonised.\n",
    "# After that, develop trade between colonies. Clearly importantium is the first to go \n",
    "# out - what if we were to send some from the closest planets to Terra?\n",
    "\n",
    "# Then we can set up a system with several functional planets and colonies. We can study the trade and\n",
    "# material flow from there\n",
    "\n",
    "# An interesting idea: could a similar model be usable also for colonisation of Americas in the lte 1400's\n",
    "# and 1500's, or the American colonies from 1600 onwards?"
   ]
  }
 ],
 "metadata": {
  "kernelspec": {
   "display_name": "Python 3",
   "language": "python",
   "name": "python3"
  },
  "language_info": {
   "codemirror_mode": {
    "name": "ipython",
    "version": 3
   },
   "file_extension": ".py",
   "mimetype": "text/x-python",
   "name": "python",
   "nbconvert_exporter": "python",
   "pygments_lexer": "ipython3",
   "version": "3.6.0"
  }
 },
 "nbformat": 4,
 "nbformat_minor": 2
}
